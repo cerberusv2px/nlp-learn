{
 "cells": [
  {
   "cell_type": "code",
   "execution_count": 15,
   "metadata": {
    "collapsed": true
   },
   "outputs": [],
   "source": [
    "# !python -m textblob.download_corpora"
   ]
  },
  {
   "cell_type": "code",
   "execution_count": 16,
   "outputs": [],
   "source": [
    "from textblob import TextBlob\n"
   ],
   "metadata": {
    "collapsed": false,
    "pycharm": {
     "name": "#%%\n"
    }
   }
  },
  {
   "cell_type": "code",
   "execution_count": 17,
   "outputs": [],
   "source": [
    "document = (\"In computer science, artificial intelligence (AI), \\\n",
    "            sometimes called machine intelligence, is intelligence \\\n",
    "            demonstrated by machines, in contrast to the natural intelligence \\\n",
    "            displayed by humans and animals. Computer science defines AI \\\n",
    "            research as the study of \\\"intelligent agents\\\": any device that \\\n",
    "            perceives its environment and takes actions that maximize its\\\n",
    "            chance of successfully achieving its goals.[1] Colloquially,\\\n",
    "            the term \\\"artificial intelligence\\\" is used to describe machines\\\n",
    "            that mimic \\\"cognitive\\\" functions that humans associate with other\\\n",
    "            human minds, such as \\\"learning\\\" and \\\"problem solving\\\".[2]\")\n"
   ],
   "metadata": {
    "collapsed": false,
    "pycharm": {
     "name": "#%%\n"
    }
   }
  },
  {
   "cell_type": "code",
   "execution_count": 18,
   "outputs": [],
   "source": [
    "text_blob_object = TextBlob(document)"
   ],
   "metadata": {
    "collapsed": false,
    "pycharm": {
     "name": "#%%\n"
    }
   }
  },
  {
   "cell_type": "code",
   "execution_count": 19,
   "outputs": [
    {
     "data": {
      "text/plain": "TextBlob(\"In computer science, artificial intelligence (AI),             sometimes called machine intelligence, is intelligence             demonstrated by machines, in contrast to the natural intelligence             displayed by humans and animals. Computer science defines AI             research as the study of \"intelligent agents\": any device that             perceives its environment and takes actions that maximize its            chance of successfully achieving its goals.[1] Colloquially,            the term \"artificial intelligence\" is used to describe machines            that mimic \"cognitive\" functions that humans associate with other            human minds, such as \"learning\" and \"problem solving\".[2]\")"
     },
     "execution_count": 19,
     "metadata": {},
     "output_type": "execute_result"
    }
   ],
   "source": [
    "text_blob_object"
   ],
   "metadata": {
    "collapsed": false,
    "pycharm": {
     "name": "#%%\n"
    }
   }
  },
  {
   "cell_type": "code",
   "execution_count": 20,
   "outputs": [
    {
     "name": "stdout",
     "output_type": "stream",
     "text": [
      "[Sentence(\"In computer science, artificial intelligence (AI),             sometimes called machine intelligence, is intelligence             demonstrated by machines, in contrast to the natural intelligence             displayed by humans and animals.\"), Sentence(\"Computer science defines AI             research as the study of \"intelligent agents\": any device that             perceives its environment and takes actions that maximize its            chance of successfully achieving its goals.\"), Sentence(\"[1] Colloquially,            the term \"artificial intelligence\" is used to describe machines            that mimic \"cognitive\" functions that humans associate with other            human minds, such as \"learning\" and \"problem solving\".\"), Sentence(\"[2]\")]\n",
      "4\n"
     ]
    }
   ],
   "source": [
    "document_sentence = text_blob_object.sentences\n",
    "print(document_sentence)\n",
    "print(len(document_sentence))"
   ],
   "metadata": {
    "collapsed": false,
    "pycharm": {
     "name": "#%%\n"
    }
   }
  },
  {
   "cell_type": "code",
   "execution_count": 21,
   "outputs": [
    {
     "name": "stdout",
     "output_type": "stream",
     "text": [
      "['In', 'computer', 'science', 'artificial', 'intelligence', 'AI', 'sometimes', 'called', 'machine', 'intelligence', 'is', 'intelligence', 'demonstrated', 'by', 'machines', 'in', 'contrast', 'to', 'the', 'natural', 'intelligence', 'displayed', 'by', 'humans', 'and', 'animals', 'Computer', 'science', 'defines', 'AI', 'research', 'as', 'the', 'study', 'of', 'intelligent', 'agents', 'any', 'device', 'that', 'perceives', 'its', 'environment', 'and', 'takes', 'actions', 'that', 'maximize', 'its', 'chance', 'of', 'successfully', 'achieving', 'its', 'goals', '1', 'Colloquially', 'the', 'term', 'artificial', 'intelligence', 'is', 'used', 'to', 'describe', 'machines', 'that', 'mimic', 'cognitive', 'functions', 'that', 'humans', 'associate', 'with', 'other', 'human', 'minds', 'such', 'as', 'learning', 'and', 'problem', 'solving', '2']\n",
      "84\n"
     ]
    }
   ],
   "source": [
    "document_words = text_blob_object.words\n",
    "print(document_words)\n",
    "print(len(document_words))"
   ],
   "metadata": {
    "collapsed": false,
    "pycharm": {
     "name": "#%%\n"
    }
   }
  },
  {
   "cell_type": "markdown",
   "source": [
    "### Lemmatization\n",
    "\n"
   ],
   "metadata": {
    "collapsed": false,
    "pycharm": {
     "name": "#%% md\n"
    }
   }
  },
  {
   "cell_type": "code",
   "execution_count": 22,
   "outputs": [
    {
     "name": "stdout",
     "output_type": "stream",
     "text": [
      "apples: apple\n"
     ]
    }
   ],
   "source": [
    "from textblob import Word\n",
    "\n",
    "word1 = Word(\"apples\")\n",
    "print(\"apples:\", word1.lemmatize())"
   ],
   "metadata": {
    "collapsed": false,
    "pycharm": {
     "name": "#%%\n"
    }
   }
  },
  {
   "cell_type": "code",
   "execution_count": 23,
   "outputs": [
    {
     "name": "stdout",
     "output_type": "stream",
     "text": [
      "greater: great\n"
     ]
    }
   ],
   "source": [
    "word2 = Word(\"greater\")\n",
    "print(\"greater:\", word2.lemmatize(\"a\"))  # where a is adjective"
   ],
   "metadata": {
    "collapsed": false,
    "pycharm": {
     "name": "#%%\n"
    }
   }
  },
  {
   "cell_type": "code",
   "execution_count": 24,
   "outputs": [
    {
     "name": "stdout",
     "output_type": "stream",
     "text": [
      "In=>IN\n",
      "computer=>NN\n",
      "science=>NN\n",
      "artificial=>JJ\n",
      "intelligence=>NN\n",
      "AI=>NNP\n",
      "sometimes=>RB\n",
      "called=>VBD\n",
      "machine=>NN\n",
      "intelligence=>NN\n",
      "is=>VBZ\n",
      "intelligence=>NN\n",
      "demonstrated=>VBN\n",
      "by=>IN\n",
      "machines=>NNS\n",
      "in=>IN\n",
      "contrast=>NN\n",
      "to=>TO\n",
      "the=>DT\n",
      "natural=>JJ\n",
      "intelligence=>NN\n",
      "displayed=>VBN\n",
      "by=>IN\n",
      "humans=>NNS\n",
      "and=>CC\n",
      "animals=>NNS\n",
      "Computer=>NNP\n",
      "science=>NN\n",
      "defines=>NNS\n",
      "AI=>NNP\n",
      "research=>NN\n",
      "as=>IN\n",
      "the=>DT\n",
      "study=>NN\n",
      "of=>IN\n",
      "intelligent=>JJ\n",
      "agents=>NNS\n",
      "any=>DT\n",
      "device=>NN\n",
      "that=>WDT\n",
      "perceives=>VBZ\n",
      "its=>PRP$\n",
      "environment=>NN\n",
      "and=>CC\n",
      "takes=>VBZ\n",
      "actions=>NNS\n",
      "that=>IN\n",
      "maximize=>VB\n",
      "its=>PRP$\n",
      "chance=>NN\n",
      "of=>IN\n",
      "successfully=>RB\n",
      "achieving=>VBG\n",
      "its=>PRP$\n",
      "goals=>NNS\n",
      "[=>RB\n",
      "1=>CD\n",
      "]=>NNP\n",
      "Colloquially=>NNP\n",
      "the=>DT\n",
      "term=>NN\n",
      "artificial=>JJ\n",
      "intelligence=>NN\n",
      "is=>VBZ\n",
      "used=>VBN\n",
      "to=>TO\n",
      "describe=>VB\n",
      "machines=>NNS\n",
      "that=>IN\n",
      "mimic=>JJ\n",
      "cognitive=>JJ\n",
      "functions=>NNS\n",
      "that=>WDT\n",
      "humans=>NNS\n",
      "associate=>VBP\n",
      "with=>IN\n",
      "other=>JJ\n",
      "human=>JJ\n",
      "minds=>NNS\n",
      "such=>JJ\n",
      "as=>IN\n",
      "learning=>VBG\n",
      "and=>CC\n",
      "problem=>NN\n",
      "solving=>NN\n",
      "[=>RB\n",
      "2=>CD\n",
      "]=>NNS\n"
     ]
    }
   ],
   "source": [
    "for word, pos in text_blob_object.tags:\n",
    "    print(word + \"=>\" + pos)"
   ],
   "metadata": {
    "collapsed": false,
    "pycharm": {
     "name": "#%%\n"
    }
   }
  },
  {
   "cell_type": "code",
   "execution_count": 25,
   "outputs": [
    {
     "name": "stdout",
     "output_type": "stream",
     "text": [
      "['Footballs', 'iss', 'some', 'goods', 'games', 'Its', 'hass', 'manies', 'healths', 'benefits']\n"
     ]
    }
   ],
   "source": [
    "text = (\"Football is a good game. It has many health benefit\")\n",
    "text_blob_object = TextBlob(text)\n",
    "print(text_blob_object.words.pluralize())"
   ],
   "metadata": {
    "collapsed": false,
    "pycharm": {
     "name": "#%%\n"
    }
   }
  },
  {
   "cell_type": "code",
   "execution_count": 26,
   "outputs": [
    {
     "name": "stdout",
     "output_type": "stream",
     "text": [
      "['Football', 'is', 'a', 'good', 'game', 'It', 'ha', 'many', 'health', 'benefit']\n"
     ]
    }
   ],
   "source": [
    "text = (\"Footballs is a goods games. Its has many healths benefits\")\n",
    "text_blob_object = TextBlob(text)\n",
    "print(text_blob_object.words.singularize())"
   ],
   "metadata": {
    "collapsed": false,
    "pycharm": {
     "name": "#%%\n"
    }
   }
  },
  {
   "cell_type": "code",
   "execution_count": 27,
   "outputs": [
    {
     "name": "stdout",
     "output_type": "stream",
     "text": [
      "computer science\n",
      "artificial intelligence\n",
      "ai\n",
      "machine intelligence\n",
      "natural intelligence\n",
      "computer\n",
      "science defines\n",
      "ai\n",
      "intelligent agents\n",
      "colloquially\n",
      "artificial intelligence\n",
      "describe machines\n",
      "human minds\n"
     ]
    }
   ],
   "source": [
    "text_blob_object = TextBlob(document)\n",
    "for noun_phrase in text_blob_object.noun_phrases:\n",
    "    print(noun_phrase)"
   ],
   "metadata": {
    "collapsed": false,
    "pycharm": {
     "name": "#%%\n"
    }
   }
  },
  {
   "cell_type": "markdown",
   "source": [
    "### Getting words and phrase counts"
   ],
   "metadata": {
    "collapsed": false,
    "pycharm": {
     "name": "#%% md\n"
    }
   }
  },
  {
   "cell_type": "code",
   "execution_count": 28,
   "outputs": [
    {
     "data": {
      "text/plain": "5"
     },
     "execution_count": 28,
     "metadata": {},
     "output_type": "execute_result"
    }
   ],
   "source": [
    "text_blob_object = TextBlob(document)\n",
    "text_blob_object.word_counts['intelligence']"
   ],
   "metadata": {
    "collapsed": false,
    "pycharm": {
     "name": "#%%\n"
    }
   }
  },
  {
   "cell_type": "code",
   "execution_count": 29,
   "outputs": [
    {
     "data": {
      "text/plain": "5"
     },
     "execution_count": 29,
     "metadata": {},
     "output_type": "execute_result"
    }
   ],
   "source": [
    "text_blob_object.words.count('intelligence')"
   ],
   "metadata": {
    "collapsed": false,
    "pycharm": {
     "name": "#%%\n"
    }
   }
  },
  {
   "cell_type": "code",
   "execution_count": 30,
   "outputs": [
    {
     "data": {
      "text/plain": "5"
     },
     "execution_count": 30,
     "metadata": {},
     "output_type": "execute_result"
    }
   ],
   "source": [
    "text_blob_object.words.count('intelligence', case_sensitive=True)"
   ],
   "metadata": {
    "collapsed": false,
    "pycharm": {
     "name": "#%%\n"
    }
   }
  },
  {
   "cell_type": "code",
   "execution_count": 31,
   "outputs": [
    {
     "data": {
      "text/plain": "2"
     },
     "execution_count": 31,
     "metadata": {},
     "output_type": "execute_result"
    }
   ],
   "source": [
    "text_blob_object.noun_phrases.count('artificial intelligence')"
   ],
   "metadata": {
    "collapsed": false,
    "pycharm": {
     "name": "#%%\n"
    }
   }
  },
  {
   "cell_type": "code",
   "execution_count": 32,
   "outputs": [
    {
     "name": "stdout",
     "output_type": "stream",
     "text": [
      "IN COMPUTER SCIENCE, ARTIFICIAL INTELLIGENCE (AI),             SOMETIMES CALLED MACHINE INTELLIGENCE, IS INTELLIGENCE             DEMONSTRATED BY MACHINES, IN CONTRAST TO THE NATURAL INTELLIGENCE             DISPLAYED BY HUMANS AND ANIMALS. COMPUTER SCIENCE DEFINES AI             RESEARCH AS THE STUDY OF \"INTELLIGENT AGENTS\": ANY DEVICE THAT             PERCEIVES ITS ENVIRONMENT AND TAKES ACTIONS THAT MAXIMIZE ITS            CHANCE OF SUCCESSFULLY ACHIEVING ITS GOALS.[1] COLLOQUIALLY,            THE TERM \"ARTIFICIAL INTELLIGENCE\" IS USED TO DESCRIBE MACHINES            THAT MIMIC \"COGNITIVE\" FUNCTIONS THAT HUMANS ASSOCIATE WITH OTHER            HUMAN MINDS, SUCH AS \"LEARNING\" AND \"PROBLEM SOLVING\".[2]\n"
     ]
    }
   ],
   "source": [
    "print(text_blob_object.upper())"
   ],
   "metadata": {
    "collapsed": false,
    "pycharm": {
     "name": "#%%\n"
    }
   }
  },
  {
   "cell_type": "markdown",
   "source": [
    "### Finding n-grams"
   ],
   "metadata": {
    "collapsed": false,
    "pycharm": {
     "name": "#%% md\n"
    }
   }
  },
  {
   "cell_type": "code",
   "execution_count": 36,
   "outputs": [
    {
     "name": "stdout",
     "output_type": "stream",
     "text": [
      "['I', 'love', 'to']\n",
      "['love', 'to', 'watchf']\n",
      "['to', 'watchf', 'footbal']\n",
      "['watchf', 'footbal', 'but']\n",
      "['footbal', 'but', 'I']\n",
      "['but', 'I', 'have']\n",
      "['I', 'have', 'neter']\n",
      "['have', 'neter', 'played']\n",
      "['neter', 'played', 'it']\n"
     ]
    }
   ],
   "source": [
    "for ngram in text_blob_object.ngrams(3):\n",
    "    print(ngram)"
   ],
   "metadata": {
    "collapsed": false,
    "pycharm": {
     "name": "#%%\n"
    }
   }
  },
  {
   "cell_type": "markdown",
   "source": [
    "### Spelling corrections\n",
    "\n"
   ],
   "metadata": {
    "collapsed": false,
    "pycharm": {
     "name": "#%% md\n"
    }
   }
  },
  {
   "cell_type": "code",
   "execution_count": 37,
   "outputs": [
    {
     "name": "stdout",
     "output_type": "stream",
     "text": [
      "I love to watch football, but I have never played it\n"
     ]
    }
   ],
   "source": [
    "text = \"I love to watchf footbal, but I have neter played it\"\n",
    "text_blob_object = TextBlob(text)\n",
    "\n",
    "print(text_blob_object.correct())"
   ],
   "metadata": {
    "collapsed": false,
    "pycharm": {
     "name": "#%%\n"
    }
   }
  },
  {
   "cell_type": "markdown",
   "source": [
    "### Language Translation"
   ],
   "metadata": {
    "collapsed": false,
    "pycharm": {
     "name": "#%% md\n"
    }
   }
  },
  {
   "cell_type": "code",
   "execution_count": 38,
   "outputs": [
    {
     "name": "stdout",
     "output_type": "stream",
     "text": [
      "Hi, how are you?\n"
     ]
    }
   ],
   "source": [
    "text_blob_object_french = TextBlob(u'Salut comment allez-vous?')\n",
    "print(text_blob_object_french.translate(to='en'))"
   ],
   "metadata": {
    "collapsed": false,
    "pycharm": {
     "name": "#%%\n"
    }
   }
  },
  {
   "cell_type": "markdown",
   "source": [
    "### Text Classification\n",
    "\n"
   ],
   "metadata": {
    "collapsed": false,
    "pycharm": {
     "name": "#%% md\n"
    }
   }
  },
  {
   "cell_type": "code",
   "execution_count": 39,
   "outputs": [],
   "source": [
    "train_data = [\n",
    "    ('This is an excellent movie', 'pos'),\n",
    "    ('The move was fantastic I like it', 'pos'),\n",
    "    ('You should watch it, it is brilliant', 'pos'),\n",
    "    ('Exceptionally good', 'pos'),\n",
    "    (\"Wonderfully directed and executed. I like it\", 'pos'),\n",
    "    ('It was very boring', 'neg'),\n",
    "    ('I did not like the movie', 'neg'),\n",
    "    (\"The movie was horrible\", 'neg'),\n",
    "    ('I will not recommend', 'neg'),\n",
    "    ('The acting is pathetic', 'neg')\n",
    "]\n",
    "test_data = [\n",
    "    ('Its a fantastic series', 'pos'),\n",
    "    ('Never watched such a brillent movie', 'pos'),\n",
    "    (\"horrible acting\", 'neg'),\n",
    "    (\"It is a Wonderful movie\", 'pos'),\n",
    "    ('waste of money', 'neg'),\n",
    "    (\"pathetic picture\", 'neg')\n",
    "]\n"
   ],
   "metadata": {
    "collapsed": false,
    "pycharm": {
     "name": "#%%\n"
    }
   }
  },
  {
   "cell_type": "code",
   "execution_count": 40,
   "outputs": [],
   "source": [
    "from textblob.classifiers import  NaiveBayesClassifier\n",
    "classifier = NaiveBayesClassifier(train_data)"
   ],
   "metadata": {
    "collapsed": false,
    "pycharm": {
     "name": "#%%\n"
    }
   }
  },
  {
   "cell_type": "code",
   "execution_count": 45,
   "outputs": [
    {
     "name": "stdout",
     "output_type": "stream",
     "text": [
      "neg\n"
     ]
    }
   ],
   "source": [
    "print(classifier.classify(\"It is very boring\"))"
   ],
   "metadata": {
    "collapsed": false,
    "pycharm": {
     "name": "#%%\n"
    }
   }
  },
  {
   "cell_type": "code",
   "execution_count": 46,
   "outputs": [
    {
     "name": "stdout",
     "output_type": "stream",
     "text": [
      "neg\n"
     ]
    }
   ],
   "source": [
    "\n",
    "sentence = TextBlob(\"It's a fantastic series.\", classifier=classifier)\n",
    "print(sentence.classify())"
   ],
   "metadata": {
    "collapsed": false,
    "pycharm": {
     "name": "#%%\n"
    }
   }
  },
  {
   "cell_type": "code",
   "execution_count": 47,
   "outputs": [
    {
     "data": {
      "text/plain": "0.6666666666666666"
     },
     "execution_count": 47,
     "metadata": {},
     "output_type": "execute_result"
    }
   ],
   "source": [
    "classifier.accuracy(test_data)"
   ],
   "metadata": {
    "collapsed": false,
    "pycharm": {
     "name": "#%%\n"
    }
   }
  },
  {
   "cell_type": "code",
   "execution_count": 48,
   "outputs": [
    {
     "name": "stdout",
     "output_type": "stream",
     "text": [
      "Most Informative Features\n",
      "            contains(it) = False             neg : pos    =      2.2 : 1.0\n",
      "           contains(The) = True              neg : pos    =      1.7 : 1.0\n",
      "            contains(is) = True              pos : neg    =      1.7 : 1.0\n"
     ]
    }
   ],
   "source": [
    "classifier.show_informative_features(3)"
   ],
   "metadata": {
    "collapsed": false,
    "pycharm": {
     "name": "#%%\n"
    }
   }
  },
  {
   "cell_type": "markdown",
   "source": [
    "## Sentiment Analysis\n",
    "\n"
   ],
   "metadata": {
    "collapsed": false,
    "pycharm": {
     "name": "#%% md\n"
    }
   }
  },
  {
   "cell_type": "code",
   "execution_count": 49,
   "outputs": [
    {
     "data": {
      "text/plain": "          Id   ProductId          UserId                      ProfileName  \\\n0          1  B001E4KFG0  A3SGXH7AUHU8GW                       delmartian   \n1          2  B00813GRG4  A1D87F6ZCVE5NK                           dll pa   \n2          3  B000LQOCH0   ABXLMWJIXXAIN  Natalia Corres \"Natalia Corres\"   \n3          4  B000UA0QIQ  A395BORC6FGVXV                             Karl   \n4          5  B006K2ZZ7K  A1UQRSCLF8GW1T    Michael D. Bigham \"M. Wassir\"   \n...      ...         ...             ...                              ...   \n19995  19996  B002C50X1M  A1XRXZI5KOMVDD            KAF1958 \"amandaf0626\"   \n19996  19997  B002C50X1M   A7G9M0IE7LABX                            Kevin   \n19997  19998  B002C50X1M  A38J5PRUDESMZF                              ray   \n19998  19999  B002C50X1M  A17TPOSAG43GSM                          Herrick   \n19999  20000  B002C50X1M  A3LWC833HQIG7J                     austin_Larry   \n\n       HelpfulnessNumerator  HelpfulnessDenominator  Score        Time  \\\n0                         1                       1      5  1303862400   \n1                         0                       0      1  1346976000   \n2                         1                       1      4  1219017600   \n3                         3                       3      2  1307923200   \n4                         0                       0      5  1350777600   \n...                     ...                     ...    ...         ...   \n19995                     0                       0      4  1307664000   \n19996                     0                       0      5  1307059200   \n19997                     0                       0      5  1305763200   \n19998                     0                       0      3  1303171200   \n19999                     0                       0      5  1295568000   \n\n                                                 Summary  \\\n0                                  Good Quality Dog Food   \n1                                      Not as Advertised   \n2                                  \"Delight\" says it all   \n3                                         Cough Medicine   \n4                                            Great taffy   \n...                                                  ...   \n19995                                    Crispy and tart   \n19996  Exceeded my expectations. One of the best chip...   \n19997  Awesome Goodness! (deep river kettle chips, sw...   \n19998       Pretty good, but prefer other jalapeno chips   \n19999  Excellent chips, full of flavor and just the r...   \n\n                                                    Text  \n0      I have bought several of the Vitality canned d...  \n1      Product arrived labeled as Jumbo Salted Peanut...  \n2      This is a confection that has been around a fe...  \n3      If you are looking for the secret ingredient i...  \n4      Great taffy at a great price.  There was a wid...  \n...                                                  ...  \n19995  Deep River Salt & Vinegar chips are thick and ...  \n19996  I was very skeptical about buying a brand of c...  \n19997  Before you turn to other name brands out there...  \n19998  I was expecting some \"serious flavor\" as it wa...  \n19999  I purchased the Salt and Vinegar chips and hav...  \n\n[20000 rows x 10 columns]",
      "text/html": "<div>\n<style scoped>\n    .dataframe tbody tr th:only-of-type {\n        vertical-align: middle;\n    }\n\n    .dataframe tbody tr th {\n        vertical-align: top;\n    }\n\n    .dataframe thead th {\n        text-align: right;\n    }\n</style>\n<table border=\"1\" class=\"dataframe\">\n  <thead>\n    <tr style=\"text-align: right;\">\n      <th></th>\n      <th>Id</th>\n      <th>ProductId</th>\n      <th>UserId</th>\n      <th>ProfileName</th>\n      <th>HelpfulnessNumerator</th>\n      <th>HelpfulnessDenominator</th>\n      <th>Score</th>\n      <th>Time</th>\n      <th>Summary</th>\n      <th>Text</th>\n    </tr>\n  </thead>\n  <tbody>\n    <tr>\n      <th>0</th>\n      <td>1</td>\n      <td>B001E4KFG0</td>\n      <td>A3SGXH7AUHU8GW</td>\n      <td>delmartian</td>\n      <td>1</td>\n      <td>1</td>\n      <td>5</td>\n      <td>1303862400</td>\n      <td>Good Quality Dog Food</td>\n      <td>I have bought several of the Vitality canned d...</td>\n    </tr>\n    <tr>\n      <th>1</th>\n      <td>2</td>\n      <td>B00813GRG4</td>\n      <td>A1D87F6ZCVE5NK</td>\n      <td>dll pa</td>\n      <td>0</td>\n      <td>0</td>\n      <td>1</td>\n      <td>1346976000</td>\n      <td>Not as Advertised</td>\n      <td>Product arrived labeled as Jumbo Salted Peanut...</td>\n    </tr>\n    <tr>\n      <th>2</th>\n      <td>3</td>\n      <td>B000LQOCH0</td>\n      <td>ABXLMWJIXXAIN</td>\n      <td>Natalia Corres \"Natalia Corres\"</td>\n      <td>1</td>\n      <td>1</td>\n      <td>4</td>\n      <td>1219017600</td>\n      <td>\"Delight\" says it all</td>\n      <td>This is a confection that has been around a fe...</td>\n    </tr>\n    <tr>\n      <th>3</th>\n      <td>4</td>\n      <td>B000UA0QIQ</td>\n      <td>A395BORC6FGVXV</td>\n      <td>Karl</td>\n      <td>3</td>\n      <td>3</td>\n      <td>2</td>\n      <td>1307923200</td>\n      <td>Cough Medicine</td>\n      <td>If you are looking for the secret ingredient i...</td>\n    </tr>\n    <tr>\n      <th>4</th>\n      <td>5</td>\n      <td>B006K2ZZ7K</td>\n      <td>A1UQRSCLF8GW1T</td>\n      <td>Michael D. Bigham \"M. Wassir\"</td>\n      <td>0</td>\n      <td>0</td>\n      <td>5</td>\n      <td>1350777600</td>\n      <td>Great taffy</td>\n      <td>Great taffy at a great price.  There was a wid...</td>\n    </tr>\n    <tr>\n      <th>...</th>\n      <td>...</td>\n      <td>...</td>\n      <td>...</td>\n      <td>...</td>\n      <td>...</td>\n      <td>...</td>\n      <td>...</td>\n      <td>...</td>\n      <td>...</td>\n      <td>...</td>\n    </tr>\n    <tr>\n      <th>19995</th>\n      <td>19996</td>\n      <td>B002C50X1M</td>\n      <td>A1XRXZI5KOMVDD</td>\n      <td>KAF1958 \"amandaf0626\"</td>\n      <td>0</td>\n      <td>0</td>\n      <td>4</td>\n      <td>1307664000</td>\n      <td>Crispy and tart</td>\n      <td>Deep River Salt &amp; Vinegar chips are thick and ...</td>\n    </tr>\n    <tr>\n      <th>19996</th>\n      <td>19997</td>\n      <td>B002C50X1M</td>\n      <td>A7G9M0IE7LABX</td>\n      <td>Kevin</td>\n      <td>0</td>\n      <td>0</td>\n      <td>5</td>\n      <td>1307059200</td>\n      <td>Exceeded my expectations. One of the best chip...</td>\n      <td>I was very skeptical about buying a brand of c...</td>\n    </tr>\n    <tr>\n      <th>19997</th>\n      <td>19998</td>\n      <td>B002C50X1M</td>\n      <td>A38J5PRUDESMZF</td>\n      <td>ray</td>\n      <td>0</td>\n      <td>0</td>\n      <td>5</td>\n      <td>1305763200</td>\n      <td>Awesome Goodness! (deep river kettle chips, sw...</td>\n      <td>Before you turn to other name brands out there...</td>\n    </tr>\n    <tr>\n      <th>19998</th>\n      <td>19999</td>\n      <td>B002C50X1M</td>\n      <td>A17TPOSAG43GSM</td>\n      <td>Herrick</td>\n      <td>0</td>\n      <td>0</td>\n      <td>3</td>\n      <td>1303171200</td>\n      <td>Pretty good, but prefer other jalapeno chips</td>\n      <td>I was expecting some \"serious flavor\" as it wa...</td>\n    </tr>\n    <tr>\n      <th>19999</th>\n      <td>20000</td>\n      <td>B002C50X1M</td>\n      <td>A3LWC833HQIG7J</td>\n      <td>austin_Larry</td>\n      <td>0</td>\n      <td>0</td>\n      <td>5</td>\n      <td>1295568000</td>\n      <td>Excellent chips, full of flavor and just the r...</td>\n      <td>I purchased the Salt and Vinegar chips and hav...</td>\n    </tr>\n  </tbody>\n</table>\n<p>20000 rows × 10 columns</p>\n</div>"
     },
     "execution_count": 49,
     "metadata": {},
     "output_type": "execute_result"
    }
   ],
   "source": [
    "import pandas as pd\n",
    "import numpy as np\n",
    "\n",
    "reviews_datasets = pd.read_csv('datasets/reviews.csv')\n",
    "reviews_datasets = reviews_datasets.head(20000)\n",
    "reviews_datasets.dropna()"
   ],
   "metadata": {
    "collapsed": false,
    "pycharm": {
     "name": "#%%\n"
    }
   }
  },
  {
   "cell_type": "code",
   "execution_count": 50,
   "outputs": [
    {
     "data": {
      "text/plain": "   Id   ProductId          UserId                      ProfileName  \\\n0   1  B001E4KFG0  A3SGXH7AUHU8GW                       delmartian   \n1   2  B00813GRG4  A1D87F6ZCVE5NK                           dll pa   \n2   3  B000LQOCH0   ABXLMWJIXXAIN  Natalia Corres \"Natalia Corres\"   \n3   4  B000UA0QIQ  A395BORC6FGVXV                             Karl   \n4   5  B006K2ZZ7K  A1UQRSCLF8GW1T    Michael D. Bigham \"M. Wassir\"   \n\n   HelpfulnessNumerator  HelpfulnessDenominator  Score        Time  \\\n0                     1                       1      5  1303862400   \n1                     0                       0      1  1346976000   \n2                     1                       1      4  1219017600   \n3                     3                       3      2  1307923200   \n4                     0                       0      5  1350777600   \n\n                 Summary                                               Text  \n0  Good Quality Dog Food  I have bought several of the Vitality canned d...  \n1      Not as Advertised  Product arrived labeled as Jumbo Salted Peanut...  \n2  \"Delight\" says it all  This is a confection that has been around a fe...  \n3         Cough Medicine  If you are looking for the secret ingredient i...  \n4            Great taffy  Great taffy at a great price.  There was a wid...  ",
      "text/html": "<div>\n<style scoped>\n    .dataframe tbody tr th:only-of-type {\n        vertical-align: middle;\n    }\n\n    .dataframe tbody tr th {\n        vertical-align: top;\n    }\n\n    .dataframe thead th {\n        text-align: right;\n    }\n</style>\n<table border=\"1\" class=\"dataframe\">\n  <thead>\n    <tr style=\"text-align: right;\">\n      <th></th>\n      <th>Id</th>\n      <th>ProductId</th>\n      <th>UserId</th>\n      <th>ProfileName</th>\n      <th>HelpfulnessNumerator</th>\n      <th>HelpfulnessDenominator</th>\n      <th>Score</th>\n      <th>Time</th>\n      <th>Summary</th>\n      <th>Text</th>\n    </tr>\n  </thead>\n  <tbody>\n    <tr>\n      <th>0</th>\n      <td>1</td>\n      <td>B001E4KFG0</td>\n      <td>A3SGXH7AUHU8GW</td>\n      <td>delmartian</td>\n      <td>1</td>\n      <td>1</td>\n      <td>5</td>\n      <td>1303862400</td>\n      <td>Good Quality Dog Food</td>\n      <td>I have bought several of the Vitality canned d...</td>\n    </tr>\n    <tr>\n      <th>1</th>\n      <td>2</td>\n      <td>B00813GRG4</td>\n      <td>A1D87F6ZCVE5NK</td>\n      <td>dll pa</td>\n      <td>0</td>\n      <td>0</td>\n      <td>1</td>\n      <td>1346976000</td>\n      <td>Not as Advertised</td>\n      <td>Product arrived labeled as Jumbo Salted Peanut...</td>\n    </tr>\n    <tr>\n      <th>2</th>\n      <td>3</td>\n      <td>B000LQOCH0</td>\n      <td>ABXLMWJIXXAIN</td>\n      <td>Natalia Corres \"Natalia Corres\"</td>\n      <td>1</td>\n      <td>1</td>\n      <td>4</td>\n      <td>1219017600</td>\n      <td>\"Delight\" says it all</td>\n      <td>This is a confection that has been around a fe...</td>\n    </tr>\n    <tr>\n      <th>3</th>\n      <td>4</td>\n      <td>B000UA0QIQ</td>\n      <td>A395BORC6FGVXV</td>\n      <td>Karl</td>\n      <td>3</td>\n      <td>3</td>\n      <td>2</td>\n      <td>1307923200</td>\n      <td>Cough Medicine</td>\n      <td>If you are looking for the secret ingredient i...</td>\n    </tr>\n    <tr>\n      <th>4</th>\n      <td>5</td>\n      <td>B006K2ZZ7K</td>\n      <td>A1UQRSCLF8GW1T</td>\n      <td>Michael D. Bigham \"M. Wassir\"</td>\n      <td>0</td>\n      <td>0</td>\n      <td>5</td>\n      <td>1350777600</td>\n      <td>Great taffy</td>\n      <td>Great taffy at a great price.  There was a wid...</td>\n    </tr>\n  </tbody>\n</table>\n</div>"
     },
     "execution_count": 50,
     "metadata": {},
     "output_type": "execute_result"
    }
   ],
   "source": [
    "reviews_datasets.head()"
   ],
   "metadata": {
    "collapsed": false,
    "pycharm": {
     "name": "#%%\n"
    }
   }
  },
  {
   "cell_type": "code",
   "execution_count": 51,
   "outputs": [
    {
     "name": "stderr",
     "output_type": "stream",
     "text": [
      "/home/lenovo/PycharmProjects/stackabuse/venv/lib/python3.8/site-packages/seaborn/distributions.py:2557: FutureWarning: `distplot` is a deprecated function and will be removed in a future version. Please adapt your code to use either `displot` (a figure-level function with similar flexibility) or `histplot` (an axes-level function for histograms).\n",
      "  warnings.warn(msg, FutureWarning)\n"
     ]
    },
    {
     "data": {
      "text/plain": "<AxesSubplot:xlabel='Score', ylabel='Density'>"
     },
     "execution_count": 51,
     "metadata": {},
     "output_type": "execute_result"
    },
    {
     "data": {
      "text/plain": "<Figure size 432x288 with 1 Axes>",
      "image/png": "[encoded data removed]"
     },
     "metadata": {
      "needs_background": "light"
     },
     "output_type": "display_data"
    }
   ],
   "source": [
    "import seaborn as sns\n",
    "import matplotlib.pyplot as plt\n",
    "%matplotlib inline\n",
    "sns.distplot(reviews_datasets['Score'])"
   ],
   "metadata": {
    "collapsed": false,
    "pycharm": {
     "name": "#%%\n"
    }
   }
  },
  {
   "cell_type": "code",
   "execution_count": 52,
   "outputs": [
    {
     "data": {
      "text/plain": "<AxesSubplot:xlabel='Score', ylabel='count'>"
     },
     "execution_count": 52,
     "metadata": {},
     "output_type": "execute_result"
    },
    {
     "data": {
      "text/plain": "<Figure size 432x288 with 1 Axes>",
      "image/png": "[encoded data removed]"
     },
     "metadata": {
      "needs_background": "light"
     },
     "output_type": "display_data"
    }
   ],
   "source": [
    "sns.countplot(x='Score', data=reviews_datasets)"
   ],
   "metadata": {
    "collapsed": false,
    "pycharm": {
     "name": "#%%\n"
    }
   }
  },
  {
   "cell_type": "code",
   "execution_count": 53,
   "outputs": [
    {
     "data": {
      "text/plain": "'These chocolate covered espresso beans are wonderful!  The chocolate is very dark and rich and the \"bean\" inside is a very delightful blend of flavors with just enough caffine to really give it a zing.'"
     },
     "execution_count": 53,
     "metadata": {},
     "output_type": "execute_result"
    }
   ],
   "source": [
    "reviews_datasets['Text'][350]"
   ],
   "metadata": {
    "collapsed": false,
    "pycharm": {
     "name": "#%%\n"
    }
   }
  },
  {
   "cell_type": "markdown",
   "source": [
    "The `sentiment` object returns a tuple that contains polarity and subjectivity of the review.\n",
    "\n",
    "Value of polarity can be between -1 to 1 where the reviews with negative polarities have negative sentiments and vice versa.\n",
    "\n",
    "Subjectivity value can be between 0 to 1. It quantifies the amount of personal opinion and factual information contained in the text. Higher subjectivity means that the text contains personal opinion rather than factual information"
   ],
   "metadata": {
    "collapsed": false,
    "pycharm": {
     "name": "#%% md\n"
    }
   }
  },
  {
   "cell_type": "code",
   "execution_count": 55,
   "outputs": [
    {
     "name": "stdout",
     "output_type": "stream",
     "text": [
      "Sentiment(polarity=0.39666666666666667, subjectivity=0.6616666666666667)\n"
     ]
    }
   ],
   "source": [
    "text_blob_object = TextBlob(reviews_datasets['Text'][350])\n",
    "print(text_blob_object.sentiment)"
   ],
   "metadata": {
    "collapsed": false,
    "pycharm": {
     "name": "#%%\n"
    }
   }
  },
  {
   "cell_type": "code",
   "execution_count": 56,
   "outputs": [
    {
     "data": {
      "text/plain": "   Id   ProductId          UserId                      ProfileName  \\\n0   1  B001E4KFG0  A3SGXH7AUHU8GW                       delmartian   \n1   2  B00813GRG4  A1D87F6ZCVE5NK                           dll pa   \n2   3  B000LQOCH0   ABXLMWJIXXAIN  Natalia Corres \"Natalia Corres\"   \n3   4  B000UA0QIQ  A395BORC6FGVXV                             Karl   \n4   5  B006K2ZZ7K  A1UQRSCLF8GW1T    Michael D. Bigham \"M. Wassir\"   \n\n   HelpfulnessNumerator  HelpfulnessDenominator  Score        Time  \\\n0                     1                       1      5  1303862400   \n1                     0                       0      1  1346976000   \n2                     1                       1      4  1219017600   \n3                     3                       3      2  1307923200   \n4                     0                       0      5  1350777600   \n\n                 Summary                                               Text  \\\n0  Good Quality Dog Food  I have bought several of the Vitality canned d...   \n1      Not as Advertised  Product arrived labeled as Jumbo Salted Peanut...   \n2  \"Delight\" says it all  This is a confection that has been around a fe...   \n3         Cough Medicine  If you are looking for the secret ingredient i...   \n4            Great taffy  Great taffy at a great price.  There was a wid...   \n\n   Sentiment_Polarity  \n0            0.450000  \n1           -0.033333  \n2            0.133571  \n3            0.166667  \n4            0.483333  ",
      "text/html": "<div>\n<style scoped>\n    .dataframe tbody tr th:only-of-type {\n        vertical-align: middle;\n    }\n\n    .dataframe tbody tr th {\n        vertical-align: top;\n    }\n\n    .dataframe thead th {\n        text-align: right;\n    }\n</style>\n<table border=\"1\" class=\"dataframe\">\n  <thead>\n    <tr style=\"text-align: right;\">\n      <th></th>\n      <th>Id</th>\n      <th>ProductId</th>\n      <th>UserId</th>\n      <th>ProfileName</th>\n      <th>HelpfulnessNumerator</th>\n      <th>HelpfulnessDenominator</th>\n      <th>Score</th>\n      <th>Time</th>\n      <th>Summary</th>\n      <th>Text</th>\n      <th>Sentiment_Polarity</th>\n    </tr>\n  </thead>\n  <tbody>\n    <tr>\n      <th>0</th>\n      <td>1</td>\n      <td>B001E4KFG0</td>\n      <td>A3SGXH7AUHU8GW</td>\n      <td>delmartian</td>\n      <td>1</td>\n      <td>1</td>\n      <td>5</td>\n      <td>1303862400</td>\n      <td>Good Quality Dog Food</td>\n      <td>I have bought several of the Vitality canned d...</td>\n      <td>0.450000</td>\n    </tr>\n    <tr>\n      <th>1</th>\n      <td>2</td>\n      <td>B00813GRG4</td>\n      <td>A1D87F6ZCVE5NK</td>\n      <td>dll pa</td>\n      <td>0</td>\n      <td>0</td>\n      <td>1</td>\n      <td>1346976000</td>\n      <td>Not as Advertised</td>\n      <td>Product arrived labeled as Jumbo Salted Peanut...</td>\n      <td>-0.033333</td>\n    </tr>\n    <tr>\n      <th>2</th>\n      <td>3</td>\n      <td>B000LQOCH0</td>\n      <td>ABXLMWJIXXAIN</td>\n      <td>Natalia Corres \"Natalia Corres\"</td>\n      <td>1</td>\n      <td>1</td>\n      <td>4</td>\n      <td>1219017600</td>\n      <td>\"Delight\" says it all</td>\n      <td>This is a confection that has been around a fe...</td>\n      <td>0.133571</td>\n    </tr>\n    <tr>\n      <th>3</th>\n      <td>4</td>\n      <td>B000UA0QIQ</td>\n      <td>A395BORC6FGVXV</td>\n      <td>Karl</td>\n      <td>3</td>\n      <td>3</td>\n      <td>2</td>\n      <td>1307923200</td>\n      <td>Cough Medicine</td>\n      <td>If you are looking for the secret ingredient i...</td>\n      <td>0.166667</td>\n    </tr>\n    <tr>\n      <th>4</th>\n      <td>5</td>\n      <td>B006K2ZZ7K</td>\n      <td>A1UQRSCLF8GW1T</td>\n      <td>Michael D. Bigham \"M. Wassir\"</td>\n      <td>0</td>\n      <td>0</td>\n      <td>5</td>\n      <td>1350777600</td>\n      <td>Great taffy</td>\n      <td>Great taffy at a great price.  There was a wid...</td>\n      <td>0.483333</td>\n    </tr>\n  </tbody>\n</table>\n</div>"
     },
     "execution_count": 56,
     "metadata": {},
     "output_type": "execute_result"
    }
   ],
   "source": [
    "def find_pol(review):\n",
    "    return TextBlob(review).sentiment.polarity\n",
    "\n",
    "reviews_datasets['Sentiment_Polarity'] = reviews_datasets['Text'].apply(find_pol)\n",
    "reviews_datasets.head()"
   ],
   "metadata": {
    "collapsed": false,
    "pycharm": {
     "name": "#%%\n"
    }
   }
  },
  {
   "cell_type": "code",
   "execution_count": 57,
   "outputs": [
    {
     "name": "stderr",
     "output_type": "stream",
     "text": [
      "/home/lenovo/PycharmProjects/stackabuse/venv/lib/python3.8/site-packages/seaborn/distributions.py:2557: FutureWarning: `distplot` is a deprecated function and will be removed in a future version. Please adapt your code to use either `displot` (a figure-level function with similar flexibility) or `histplot` (an axes-level function for histograms).\n",
      "  warnings.warn(msg, FutureWarning)\n"
     ]
    },
    {
     "data": {
      "text/plain": "<AxesSubplot:xlabel='Sentiment_Polarity', ylabel='Density'>"
     },
     "execution_count": 57,
     "metadata": {},
     "output_type": "execute_result"
    },
    {
     "data": {
      "text/plain": "<Figure size 432x288 with 1 Axes>",
      "image/png": "[encoded data removed]"
     },
     "metadata": {
      "needs_background": "light"
     },
     "output_type": "display_data"
    }
   ],
   "source": [
    "\n",
    "sns.distplot(reviews_datasets['Sentiment_Polarity'])"
   ],
   "metadata": {
    "collapsed": false,
    "pycharm": {
     "name": "#%%\n"
    }
   }
  },
  {
   "cell_type": "code",
   "execution_count": 58,
   "outputs": [
    {
     "data": {
      "text/plain": "<AxesSubplot:xlabel='Score', ylabel='Sentiment_Polarity'>"
     },
     "execution_count": 58,
     "metadata": {},
     "output_type": "execute_result"
    },
    {
     "data": {
      "text/plain": "<Figure size 432x288 with 1 Axes>",
      "image/png": "[encoded data removed]"
     },
     "metadata": {
      "needs_background": "light"
     },
     "output_type": "display_data"
    }
   ],
   "source": [
    "sns.barplot(x='Score', y='Sentiment_Polarity', data=reviews_datasets)"
   ],
   "metadata": {
    "collapsed": false,
    "pycharm": {
     "name": "#%%\n"
    }
   }
  },
  {
   "cell_type": "code",
   "execution_count": 59,
   "outputs": [
    {
     "name": "stdout",
     "output_type": "stream",
     "text": [
      "545     These chips are nasty.  I thought someone had ...\n",
      "1083    All my fault. I thought this would be a carton...\n",
      "1832    Pop Chips are basically a horribly over-priced...\n",
      "2087    I do not consider Gingerbread, Spicy Eggnog, C...\n",
      "2763    This popcorn has alot of hulls I order 4 bags ...\n",
      "Name: Text, dtype: object\n"
     ]
    }
   ],
   "source": [
    "\n",
    "most_negative = reviews_datasets[reviews_datasets.Sentiment_Polarity == -1].Text.head()\n",
    "print(most_negative)"
   ],
   "metadata": {
    "collapsed": false,
    "pycharm": {
     "name": "#%%\n"
    }
   }
  },
  {
   "cell_type": "code",
   "execution_count": 60,
   "outputs": [
    {
     "name": "stdout",
     "output_type": "stream",
     "text": [
      "545     These chips are nasty.  I thought someone had ...\n",
      "1083    All my fault. I thought this would be a carton...\n",
      "1832    Pop Chips are basically a horribly over-priced...\n",
      "2087    I do not consider Gingerbread, Spicy Eggnog, C...\n",
      "2763    This popcorn has alot of hulls I order 4 bags ...\n",
      "Name: Text, dtype: object\n"
     ]
    }
   ],
   "source": [
    "most_negative = reviews_datasets[reviews_datasets.Sentiment_Polarity == -1].Text.head()\n",
    "print(most_negative)"
   ],
   "metadata": {
    "collapsed": false,
    "pycharm": {
     "name": "#%%\n"
    }
   }
  },
  {
   "cell_type": "code",
   "execution_count": null,
   "outputs": [],
   "source": [],
   "metadata": {
    "collapsed": false,
    "pycharm": {
     "name": "#%%\n"
    }
   }
  }
 ],
 "metadata": {
  "kernelspec": {
   "display_name": "Python 3",
   "language": "python",
   "name": "python3"
  },
  "language_info": {
   "codemirror_mode": {
    "name": "ipython",
    "version": 2
   },
   "file_extension": ".py",
   "mimetype": "text/x-python",
   "name": "python",
   "nbconvert_exporter": "python",
   "pygments_lexer": "ipython2",
   "version": "2.7.6"
  }
 },
 "nbformat": 4,
 "nbformat_minor": 0
}
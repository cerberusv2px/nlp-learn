{
 "cells": [
  {
   "cell_type": "code",
   "execution_count": 1,
   "metadata": {
    "collapsed": true
   },
   "outputs": [
    {
     "name": "stderr",
     "output_type": "stream",
     "text": [
      "/home/lenovo/PycharmProjects/stackabuse/venv/lib/python3.8/site-packages/gensim/similarities/__init__.py:15: UserWarning: The gensim.similarities.levenshtein submodule is disabled, because the optional Levenshtein package <https://pypi.org/project/python-Levenshtein/> is unavailable. Install Levenhstein (e.g. `pip install python-Levenshtein`) to suppress this warning.\n",
      "  warnings.warn(msg)\n"
     ]
    }
   ],
   "source": [
    "import gensim\n",
    "from gensim import corpora\n",
    "from pprint import pprint\n"
   ]
  },
  {
   "cell_type": "code",
   "execution_count": 2,
   "outputs": [],
   "source": [
    "text = [\"\"\"In computer science, artificial intelligence (AI),\n",
    "             sometimes called machine intelligence, is intelligence\n",
    "             demonstrated by machines, in contrast to the natural intelligence\n",
    "             displayed by humans and animals. Computer science defines\n",
    "             AI research as the study of intelligent agents: any device that\n",
    "             perceives its environment and takes actions that maximize its chance\n",
    "             of successfully achieving its goals.\"\"\"]\n",
    "\n",
    "tokens = [[token for token in sentence.split()] for sentence in text]\n"
   ],
   "metadata": {
    "collapsed": false,
    "pycharm": {
     "name": "#%%\n"
    }
   }
  },
  {
   "cell_type": "code",
   "execution_count": 3,
   "outputs": [
    {
     "data": {
      "text/plain": "[['In',\n  'computer',\n  'science,',\n  'artificial',\n  'intelligence',\n  '(AI),',\n  'sometimes',\n  'called',\n  'machine',\n  'intelligence,',\n  'is',\n  'intelligence',\n  'demonstrated',\n  'by',\n  'machines,',\n  'in',\n  'contrast',\n  'to',\n  'the',\n  'natural',\n  'intelligence',\n  'displayed',\n  'by',\n  'humans',\n  'and',\n  'animals.',\n  'Computer',\n  'science',\n  'defines',\n  'AI',\n  'research',\n  'as',\n  'the',\n  'study',\n  'of',\n  'intelligent',\n  'agents:',\n  'any',\n  'device',\n  'that',\n  'perceives',\n  'its',\n  'environment',\n  'and',\n  'takes',\n  'actions',\n  'that',\n  'maximize',\n  'its',\n  'chance',\n  'of',\n  'successfully',\n  'achieving',\n  'its',\n  'goals.']]"
     },
     "execution_count": 3,
     "metadata": {},
     "output_type": "execute_result"
    }
   ],
   "source": [
    "tokens"
   ],
   "metadata": {
    "collapsed": false,
    "pycharm": {
     "name": "#%%\n"
    }
   }
  },
  {
   "cell_type": "code",
   "execution_count": 4,
   "outputs": [
    {
     "data": {
      "text/plain": "<gensim.corpora.dictionary.Dictionary at 0x7f8388948190>"
     },
     "execution_count": 4,
     "metadata": {},
     "output_type": "execute_result"
    }
   ],
   "source": [
    "gensim_dictionary = corpora.Dictionary(tokens)\n",
    "gensim_dictionary"
   ],
   "metadata": {
    "collapsed": false,
    "pycharm": {
     "name": "#%%\n"
    }
   }
  },
  {
   "cell_type": "code",
   "execution_count": 5,
   "outputs": [
    {
     "name": "stdout",
     "output_type": "stream",
     "text": [
      "46\n"
     ]
    }
   ],
   "source": [
    "print(len(gensim_dictionary))"
   ],
   "metadata": {
    "collapsed": false,
    "pycharm": {
     "name": "#%%\n"
    }
   }
  },
  {
   "cell_type": "code",
   "execution_count": 8,
   "outputs": [
    {
     "name": "stdout",
     "output_type": "stream",
     "text": [
      "(AI),                    0\n",
      "AI                       1\n",
      "Computer                 2\n",
      "In                       3\n",
      "achieving                4\n",
      "actions                  5\n",
      "agents:                  6\n",
      "and                      7\n",
      "animals.                 8\n",
      "any                      9\n",
      "artificial              10\n",
      "as                      11\n",
      "by                      12\n",
      "called                  13\n",
      "chance                  14\n",
      "computer                15\n",
      "contrast                16\n",
      "defines                 17\n",
      "demonstrated            18\n",
      "device                  19\n",
      "displayed               20\n",
      "environment             21\n",
      "goals.                  22\n",
      "humans                  23\n",
      "in                      24\n",
      "intelligence            25\n",
      "intelligence,           26\n",
      "intelligent             27\n",
      "is                      28\n",
      "its                     29\n",
      "machine                 30\n",
      "machines,               31\n",
      "maximize                32\n",
      "natural                 33\n",
      "of                      34\n",
      "perceives               35\n",
      "research                36\n",
      "science                 37\n",
      "science,                38\n",
      "sometimes               39\n",
      "study                   40\n",
      "successfully            41\n",
      "takes                   42\n",
      "that                    43\n",
      "the                     44\n",
      "to                      45\n"
     ]
    }
   ],
   "source": [
    "for k, v in gensim_dictionary.token2id.items():\n",
    "    print(f'{k:{15}} {v:{10}}')"
   ],
   "metadata": {
    "collapsed": false,
    "pycharm": {
     "name": "#%%\n"
    }
   }
  },
  {
   "cell_type": "code",
   "execution_count": 9,
   "outputs": [
    {
     "name": "stdout",
     "output_type": "stream",
     "text": [
      "study\n"
     ]
    }
   ],
   "source": [
    "print(list(gensim_dictionary.token2id.keys())[list(gensim_dictionary.token2id.values()).index(40)])"
   ],
   "metadata": {
    "collapsed": false,
    "pycharm": {
     "name": "#%%\n"
    }
   }
  },
  {
   "cell_type": "code",
   "execution_count": 10,
   "outputs": [
    {
     "name": "stdout",
     "output_type": "stream",
     "text": [
      "The dictionary has: 65 tokens\n",
      "{'(AI),': 0, 'AI': 1, 'Computer': 2, 'In': 3, 'achieving': 4, 'actions': 5, 'agents:': 6, 'and': 7, 'animals.': 8, 'any': 9, 'artificial': 10, 'as': 11, 'by': 12, 'called': 13, 'chance': 14, 'computer': 15, 'contrast': 16, 'defines': 17, 'demonstrated': 18, 'device': 19, 'displayed': 20, 'environment': 21, 'goals.': 22, 'humans': 23, 'in': 24, 'intelligence': 25, 'intelligence,': 26, 'intelligent': 27, 'is': 28, 'its': 29, 'machine': 30, 'machines,': 31, 'maximize': 32, 'natural': 33, 'of': 34, 'perceives': 35, 'research': 36, 'science': 37, 'science,': 38, 'sometimes': 39, 'study': 40, 'successfully': 41, 'takes': 42, 'that': 43, 'the': 44, 'to': 45, '\"artificial': 46, '\"cognitive\"': 47, '\"learning\"': 48, '\"problem': 49, 'Colloquially,': 50, 'associate': 51, 'describe': 52, 'functions': 53, 'human': 54, 'intelligence\"': 55, 'machines': 56, 'mimic': 57, 'minds,': 58, 'other': 59, 'solving': 60, 'such': 61, 'term': 62, 'used': 63, 'with': 64}\n"
     ]
    }
   ],
   "source": [
    "text = [\"\"\"Colloquially, the term \"artificial intelligence\" is used to\n",
    "           describe machines that mimic \"cognitive\" functions that humans\n",
    "           associate with other human minds, such as \"learning\" and \"problem solving\"\"\"]\n",
    "\n",
    "tokens = [[token for token in sentence.split()] for sentence in text]\n",
    "gensim_dictionary.add_documents(tokens)\n",
    "\n",
    "print(\"The dictionary has: \" + str(len(gensim_dictionary)) + \" tokens\")\n",
    "print(gensim_dictionary.token2id)"
   ],
   "metadata": {
    "collapsed": false,
    "pycharm": {
     "name": "#%%\n"
    }
   }
  },
  {
   "cell_type": "markdown",
   "source": [
    "### Creating Bag of Words Corpus from in memory objects\n"
   ],
   "metadata": {
    "collapsed": false,
    "pycharm": {
     "name": "#%% md\n"
    }
   }
  },
  {
   "cell_type": "code",
   "execution_count": 11,
   "outputs": [],
   "source": [
    "gensim_dictionary = corpora.Dictionary()\n",
    "gensim_corpus = [gensim_dictionary.doc2bow(token, allow_update=True) for token in tokens]"
   ],
   "metadata": {
    "collapsed": false,
    "pycharm": {
     "name": "#%%\n"
    }
   }
  },
  {
   "cell_type": "code",
   "execution_count": 12,
   "outputs": [
    {
     "data": {
      "text/plain": "[[(0, 1),\n  (1, 1),\n  (2, 1),\n  (3, 1),\n  (4, 1),\n  (5, 1),\n  (6, 1),\n  (7, 1),\n  (8, 1),\n  (9, 1),\n  (10, 1),\n  (11, 1),\n  (12, 1),\n  (13, 1),\n  (14, 1),\n  (15, 1),\n  (16, 1),\n  (17, 1),\n  (18, 1),\n  (19, 1),\n  (20, 1),\n  (21, 2),\n  (22, 1),\n  (23, 1),\n  (24, 1),\n  (25, 1)]]"
     },
     "execution_count": 12,
     "metadata": {},
     "output_type": "execute_result"
    }
   ],
   "source": [
    "gensim_corpus"
   ],
   "metadata": {
    "collapsed": false,
    "pycharm": {
     "name": "#%%\n"
    }
   }
  },
  {
   "cell_type": "markdown",
   "source": [
    "First tuple (0,1) means that word with ID 0 occurred 1 time in text. Likewise, (25,3) means word with ID 25 occurred 3 times in document.\n",
    "\n",
    "\n"
   ],
   "metadata": {
    "collapsed": false,
    "pycharm": {
     "name": "#%% md\n"
    }
   }
  },
  {
   "cell_type": "code",
   "execution_count": 13,
   "outputs": [
    {
     "name": "stdout",
     "output_type": "stream",
     "text": [
      "[[('\"artificial', 1), ('\"cognitive\"', 1), ('\"learning\"', 1), ('\"problem', 1), ('Colloquially,', 1), ('and', 1), ('as', 1), ('associate', 1), ('describe', 1), ('functions', 1), ('human', 1), ('humans', 1), ('intelligence\"', 1), ('is', 1), ('machines', 1), ('mimic', 1), ('minds,', 1), ('other', 1), ('solving', 1), ('such', 1), ('term', 1), ('that', 2), ('the', 1), ('to', 1), ('used', 1), ('with', 1)]]\n"
     ]
    }
   ],
   "source": [
    "word_freq = [[(gensim_dictionary[id], freq) for id, freq in couple] for couple in gensim_corpus]\n",
    "print(word_freq)"
   ],
   "metadata": {
    "collapsed": false,
    "pycharm": {
     "name": "#%%\n"
    }
   }
  },
  {
   "cell_type": "markdown",
   "source": [
    "### Creating TF-IDF Corpus\n",
    "Term Frequency - Inverse Document Frequency"
   ],
   "metadata": {
    "collapsed": false,
    "pycharm": {
     "name": "#%% md\n"
    }
   }
  },
  {
   "cell_type": "code",
   "execution_count": 14,
   "outputs": [],
   "source": [
    "text = [\"I like to play Football\",\n",
    "        \"Football is the best game\",\n",
    "        \"Which game do you like to play ?\"]\n",
    "\n",
    "tokens = [[token for token in sentence.split()] for sentence in text]\n",
    "\n",
    "gensim_dictionary = corpora.Dictionary()\n",
    "gensim_corpus = [gensim_dictionary.doc2bow(token, allow_update=True) for token in tokens]"
   ],
   "metadata": {
    "collapsed": false,
    "pycharm": {
     "name": "#%%\n"
    }
   }
  },
  {
   "cell_type": "code",
   "execution_count": 15,
   "outputs": [],
   "source": [
    "from gensim import models\n",
    "import numpy as np"
   ],
   "metadata": {
    "collapsed": false,
    "pycharm": {
     "name": "#%%\n"
    }
   }
  },
  {
   "cell_type": "code",
   "execution_count": 16,
   "outputs": [
    {
     "name": "stdout",
     "output_type": "stream",
     "text": [
      "[['Football', 0.35], ['I', 0.71], ['like', 0.35], ['play', 0.35], ['to', 0.35]]\n",
      "[['Football', 0.27], ['best', 0.53], ['game', 0.27], ['is', 0.53], ['the', 0.53]]\n",
      "[['like', 0.22], ['play', 0.22], ['to', 0.22], ['game', 0.22], ['?', 0.45], ['Which', 0.45], ['do', 0.45], ['you', 0.45]]\n"
     ]
    }
   ],
   "source": [
    "tfidf = models.TfidfModel(gensim_corpus, smartirs='ntc')\n",
    "for sent in tfidf[gensim_corpus]:\n",
    "    print([[gensim_dictionary[id], np.around(frequency, decimals=2)] for id, frequency in sent])"
   ],
   "metadata": {
    "collapsed": false,
    "pycharm": {
     "name": "#%%\n"
    }
   }
  },
  {
   "cell_type": "markdown",
   "source": [
    "## Downloading Builtin gensim models and datasets\n"
   ],
   "metadata": {
    "collapsed": false,
    "pycharm": {
     "name": "#%% md\n"
    }
   }
  },
  {
   "cell_type": "code",
   "execution_count": 17,
   "outputs": [
    {
     "name": "stdout",
     "output_type": "stream",
     "text": [
      "[==================================================] 100.0% 128.1/128.1MB downloaded\n"
     ]
    }
   ],
   "source": [
    "import gensim.downloader as api\n",
    "w2v_embedding = api.load('glove-wiki-gigaword-100')"
   ],
   "metadata": {
    "collapsed": false,
    "pycharm": {
     "name": "#%%\n"
    }
   }
  },
  {
   "cell_type": "code",
   "execution_count": 18,
   "outputs": [
    {
     "data": {
      "text/plain": "[('honda', 0.8739858865737915),\n ('nissan', 0.8108116388320923),\n ('automaker', 0.7918164134025574),\n ('mazda', 0.7687168717384338),\n ('bmw', 0.7616022825241089),\n ('ford', 0.7547588348388672),\n ('motors', 0.7539199590682983),\n ('volkswagen', 0.7176680564880371),\n ('prius', 0.7156581878662109),\n ('chrysler', 0.7085398435592651)]"
     },
     "execution_count": 18,
     "metadata": {},
     "output_type": "execute_result"
    }
   ],
   "source": [
    "w2v_embedding.most_similar('toyota')"
   ],
   "metadata": {
    "collapsed": false,
    "pycharm": {
     "name": "#%%\n"
    }
   }
  },
  {
   "cell_type": "code",
   "execution_count": null,
   "outputs": [],
   "source": [],
   "metadata": {
    "collapsed": false,
    "pycharm": {
     "name": "#%%\n"
    }
   }
  }
 ],
 "metadata": {
  "kernelspec": {
   "display_name": "Python 3",
   "language": "python",
   "name": "python3"
  },
  "language_info": {
   "codemirror_mode": {
    "name": "ipython",
    "version": 2
   },
   "file_extension": ".py",
   "mimetype": "text/x-python",
   "name": "python",
   "nbconvert_exporter": "python",
   "pygments_lexer": "ipython2",
   "version": "2.7.6"
  }
 },
 "nbformat": 4,
 "nbformat_minor": 0
}
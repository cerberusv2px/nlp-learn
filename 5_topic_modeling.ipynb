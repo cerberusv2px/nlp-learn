{
 "cells": [
  {
   "cell_type": "markdown",
   "metadata": {
    "collapsed": true,
    "pycharm": {
     "name": "#%% md\n"
    }
   },
   "source": [
    "### Topic modeling\n",
    "Topic modeling is an unsupervised technique that intends to analyze large volumns of text data by clustering the documents into groups. <br>\n",
    "Here the text data does not have any labels attached to it. Rather, topic modeling tries to group docs into clusters based on similar characteristics. <br>\n",
    "Example is clustering a large number of newspaper articles that belong in same category.\n",
    "\n",
    "Two methods:\n",
    "* Latent Dirichlet Allocation (LDA)\n",
    "* Non-Negative Matrix factorization\n",
    "\n",
    "#### Latent Dirichlet Allocation (LDA)\n",
    "Based on two general assumptions:\n",
    "* Docs that have similar words usually have same topic\n",
    "* Docs that have groups of words frequently occurring together usually have same topic.\n",
    "\n",
    "Mathematically, two assumptions can be represented as:\n",
    "* Docs are probability distributions over latent topics.\n",
    "* Topics are probability distributions over words.\n",
    "\n",
    "<i>Download datasets from: <a href=\"https://www.kaggle.com/sdxingaijing/topic-model-lda-algorithm/data?select=Reviews.csv\">Here</a></i>"
   ]
  },
  {
   "cell_type": "code",
   "execution_count": 1,
   "outputs": [],
   "source": [
    "import pandas as pd\n",
    "import numpy as np"
   ],
   "metadata": {
    "collapsed": false,
    "pycharm": {
     "name": "#%%\n"
    }
   }
  },
  {
   "cell_type": "code",
   "execution_count": 3,
   "outputs": [
    {
     "data": {
      "text/plain": "          Id   ProductId          UserId                      ProfileName  \\\n0          1  B001E4KFG0  A3SGXH7AUHU8GW                       delmartian   \n1          2  B00813GRG4  A1D87F6ZCVE5NK                           dll pa   \n2          3  B000LQOCH0   ABXLMWJIXXAIN  Natalia Corres \"Natalia Corres\"   \n3          4  B000UA0QIQ  A395BORC6FGVXV                             Karl   \n4          5  B006K2ZZ7K  A1UQRSCLF8GW1T    Michael D. Bigham \"M. Wassir\"   \n...      ...         ...             ...                              ...   \n19995  19996  B002C50X1M  A1XRXZI5KOMVDD            KAF1958 \"amandaf0626\"   \n19996  19997  B002C50X1M   A7G9M0IE7LABX                            Kevin   \n19997  19998  B002C50X1M  A38J5PRUDESMZF                              ray   \n19998  19999  B002C50X1M  A17TPOSAG43GSM                          Herrick   \n19999  20000  B002C50X1M  A3LWC833HQIG7J                     austin_Larry   \n\n       HelpfulnessNumerator  HelpfulnessDenominator  Score        Time  \\\n0                         1                       1      5  1303862400   \n1                         0                       0      1  1346976000   \n2                         1                       1      4  1219017600   \n3                         3                       3      2  1307923200   \n4                         0                       0      5  1350777600   \n...                     ...                     ...    ...         ...   \n19995                     0                       0      4  1307664000   \n19996                     0                       0      5  1307059200   \n19997                     0                       0      5  1305763200   \n19998                     0                       0      3  1303171200   \n19999                     0                       0      5  1295568000   \n\n                                                 Summary  \\\n0                                  Good Quality Dog Food   \n1                                      Not as Advertised   \n2                                  \"Delight\" says it all   \n3                                         Cough Medicine   \n4                                            Great taffy   \n...                                                  ...   \n19995                                    Crispy and tart   \n19996  Exceeded my expectations. One of the best chip...   \n19997  Awesome Goodness! (deep river kettle chips, sw...   \n19998       Pretty good, but prefer other jalapeno chips   \n19999  Excellent chips, full of flavor and just the r...   \n\n                                                    Text  \n0      I have bought several of the Vitality canned d...  \n1      Product arrived labeled as Jumbo Salted Peanut...  \n2      This is a confection that has been around a fe...  \n3      If you are looking for the secret ingredient i...  \n4      Great taffy at a great price.  There was a wid...  \n...                                                  ...  \n19995  Deep River Salt & Vinegar chips are thick and ...  \n19996  I was very skeptical about buying a brand of c...  \n19997  Before you turn to other name brands out there...  \n19998  I was expecting some \"serious flavor\" as it wa...  \n19999  I purchased the Salt and Vinegar chips and hav...  \n\n[20000 rows x 10 columns]",
      "text/html": "<div>\n<style scoped>\n    .dataframe tbody tr th:only-of-type {\n        vertical-align: middle;\n    }\n\n    .dataframe tbody tr th {\n        vertical-align: top;\n    }\n\n    .dataframe thead th {\n        text-align: right;\n    }\n</style>\n<table border=\"1\" class=\"dataframe\">\n  <thead>\n    <tr style=\"text-align: right;\">\n      <th></th>\n      <th>Id</th>\n      <th>ProductId</th>\n      <th>UserId</th>\n      <th>ProfileName</th>\n      <th>HelpfulnessNumerator</th>\n      <th>HelpfulnessDenominator</th>\n      <th>Score</th>\n      <th>Time</th>\n      <th>Summary</th>\n      <th>Text</th>\n    </tr>\n  </thead>\n  <tbody>\n    <tr>\n      <th>0</th>\n      <td>1</td>\n      <td>B001E4KFG0</td>\n      <td>A3SGXH7AUHU8GW</td>\n      <td>delmartian</td>\n      <td>1</td>\n      <td>1</td>\n      <td>5</td>\n      <td>1303862400</td>\n      <td>Good Quality Dog Food</td>\n      <td>I have bought several of the Vitality canned d...</td>\n    </tr>\n    <tr>\n      <th>1</th>\n      <td>2</td>\n      <td>B00813GRG4</td>\n      <td>A1D87F6ZCVE5NK</td>\n      <td>dll pa</td>\n      <td>0</td>\n      <td>0</td>\n      <td>1</td>\n      <td>1346976000</td>\n      <td>Not as Advertised</td>\n      <td>Product arrived labeled as Jumbo Salted Peanut...</td>\n    </tr>\n    <tr>\n      <th>2</th>\n      <td>3</td>\n      <td>B000LQOCH0</td>\n      <td>ABXLMWJIXXAIN</td>\n      <td>Natalia Corres \"Natalia Corres\"</td>\n      <td>1</td>\n      <td>1</td>\n      <td>4</td>\n      <td>1219017600</td>\n      <td>\"Delight\" says it all</td>\n      <td>This is a confection that has been around a fe...</td>\n    </tr>\n    <tr>\n      <th>3</th>\n      <td>4</td>\n      <td>B000UA0QIQ</td>\n      <td>A395BORC6FGVXV</td>\n      <td>Karl</td>\n      <td>3</td>\n      <td>3</td>\n      <td>2</td>\n      <td>1307923200</td>\n      <td>Cough Medicine</td>\n      <td>If you are looking for the secret ingredient i...</td>\n    </tr>\n    <tr>\n      <th>4</th>\n      <td>5</td>\n      <td>B006K2ZZ7K</td>\n      <td>A1UQRSCLF8GW1T</td>\n      <td>Michael D. Bigham \"M. Wassir\"</td>\n      <td>0</td>\n      <td>0</td>\n      <td>5</td>\n      <td>1350777600</td>\n      <td>Great taffy</td>\n      <td>Great taffy at a great price.  There was a wid...</td>\n    </tr>\n    <tr>\n      <th>...</th>\n      <td>...</td>\n      <td>...</td>\n      <td>...</td>\n      <td>...</td>\n      <td>...</td>\n      <td>...</td>\n      <td>...</td>\n      <td>...</td>\n      <td>...</td>\n      <td>...</td>\n    </tr>\n    <tr>\n      <th>19995</th>\n      <td>19996</td>\n      <td>B002C50X1M</td>\n      <td>A1XRXZI5KOMVDD</td>\n      <td>KAF1958 \"amandaf0626\"</td>\n      <td>0</td>\n      <td>0</td>\n      <td>4</td>\n      <td>1307664000</td>\n      <td>Crispy and tart</td>\n      <td>Deep River Salt &amp; Vinegar chips are thick and ...</td>\n    </tr>\n    <tr>\n      <th>19996</th>\n      <td>19997</td>\n      <td>B002C50X1M</td>\n      <td>A7G9M0IE7LABX</td>\n      <td>Kevin</td>\n      <td>0</td>\n      <td>0</td>\n      <td>5</td>\n      <td>1307059200</td>\n      <td>Exceeded my expectations. One of the best chip...</td>\n      <td>I was very skeptical about buying a brand of c...</td>\n    </tr>\n    <tr>\n      <th>19997</th>\n      <td>19998</td>\n      <td>B002C50X1M</td>\n      <td>A38J5PRUDESMZF</td>\n      <td>ray</td>\n      <td>0</td>\n      <td>0</td>\n      <td>5</td>\n      <td>1305763200</td>\n      <td>Awesome Goodness! (deep river kettle chips, sw...</td>\n      <td>Before you turn to other name brands out there...</td>\n    </tr>\n    <tr>\n      <th>19998</th>\n      <td>19999</td>\n      <td>B002C50X1M</td>\n      <td>A17TPOSAG43GSM</td>\n      <td>Herrick</td>\n      <td>0</td>\n      <td>0</td>\n      <td>3</td>\n      <td>1303171200</td>\n      <td>Pretty good, but prefer other jalapeno chips</td>\n      <td>I was expecting some \"serious flavor\" as it wa...</td>\n    </tr>\n    <tr>\n      <th>19999</th>\n      <td>20000</td>\n      <td>B002C50X1M</td>\n      <td>A3LWC833HQIG7J</td>\n      <td>austin_Larry</td>\n      <td>0</td>\n      <td>0</td>\n      <td>5</td>\n      <td>1295568000</td>\n      <td>Excellent chips, full of flavor and just the r...</td>\n      <td>I purchased the Salt and Vinegar chips and hav...</td>\n    </tr>\n  </tbody>\n</table>\n<p>20000 rows × 10 columns</p>\n</div>"
     },
     "execution_count": 3,
     "metadata": {},
     "output_type": "execute_result"
    }
   ],
   "source": [
    "reviews_datasets = pd.read_csv('datasets/reviews.csv')\n",
    "reviews_datasets = reviews_datasets.head(20000)\n",
    "reviews_datasets.dropna()"
   ],
   "metadata": {
    "collapsed": false,
    "pycharm": {
     "name": "#%%\n"
    }
   }
  },
  {
   "cell_type": "code",
   "execution_count": 4,
   "outputs": [
    {
     "data": {
      "text/plain": "'These chocolate covered espresso beans are wonderful!  The chocolate is very dark and rich and the \"bean\" inside is a very delightful blend of flavors with just enough caffine to really give it a zing.'"
     },
     "execution_count": 4,
     "metadata": {},
     "output_type": "execute_result"
    }
   ],
   "source": [
    "reviews_datasets['Text'][350]"
   ],
   "metadata": {
    "collapsed": false,
    "pycharm": {
     "name": "#%%\n"
    }
   }
  },
  {
   "cell_type": "code",
   "execution_count": 5,
   "outputs": [],
   "source": [
    "from sklearn.feature_extraction.text import CountVectorizer\n",
    "\n",
    "count_vect = CountVectorizer(max_df=0.8, min_df=2, stop_words='english')\n",
    "doc_term_matrix = count_vect.fit_transform(reviews_datasets['Text'].values.astype('U'))"
   ],
   "metadata": {
    "collapsed": false,
    "pycharm": {
     "name": "#%%\n"
    }
   }
  },
  {
   "cell_type": "markdown",
   "source": [
    "Here we use `CountVectorizer` to create a document-term matrix. we specify to only include those words that appear in less that 80% of document and appear in atleast 2 documents. also remove all stop words\n"
   ],
   "metadata": {
    "collapsed": false,
    "pycharm": {
     "name": "#%% md\n"
    }
   }
  },
  {
   "cell_type": "code",
   "execution_count": 7,
   "outputs": [
    {
     "data": {
      "text/plain": "<20000x14546 sparse matrix of type '<class 'numpy.int64'>'\n\twith 594703 stored elements in Compressed Sparse Row format>"
     },
     "execution_count": 7,
     "metadata": {},
     "output_type": "execute_result"
    }
   ],
   "source": [
    "# each of 20k docs representated as 14546 dim vector which means that our vocab has 14546 words\n",
    "doc_term_matrix"
   ],
   "metadata": {
    "collapsed": false,
    "pycharm": {
     "name": "#%%\n"
    }
   }
  },
  {
   "cell_type": "code",
   "execution_count": 8,
   "outputs": [
    {
     "data": {
      "text/plain": "LatentDirichletAllocation(n_components=5, random_state=42)"
     },
     "execution_count": 8,
     "metadata": {},
     "output_type": "execute_result"
    }
   ],
   "source": [
    "from sklearn.decomposition import LatentDirichletAllocation\n",
    "\n",
    "lda = LatentDirichletAllocation(n_components=5, random_state=42)\n",
    "lda.fit(doc_term_matrix)"
   ],
   "metadata": {
    "collapsed": false,
    "pycharm": {
     "name": "#%%\n"
    }
   }
  },
  {
   "cell_type": "markdown",
   "source": [
    "we use `LatentDirichletAllocation` to perform LDA on document-term matrix. Parameter `n_components` is number of categories or topics that we want our text to be divided into. `random_state` is like `seed`"
   ],
   "metadata": {
    "collapsed": false,
    "pycharm": {
     "name": "#%% md\n"
    }
   }
  },
  {
   "cell_type": "code",
   "execution_count": 9,
   "outputs": [
    {
     "name": "stdout",
     "output_type": "stream",
     "text": [
      "trouble\n",
      "dispense\n",
      "woof\n",
      "qualities\n",
      "mcdougalls\n",
      "puffed\n",
      "eyeball\n",
      "manufacture\n",
      "brash\n",
      "mastiff\n"
     ]
    }
   ],
   "source": [
    "import random\n",
    "for i in range(10):\n",
    "    random_id = random.randint(0, len(count_vect.get_feature_names()))\n",
    "    print(count_vect.get_feature_names()[random_id])"
   ],
   "metadata": {
    "collapsed": false,
    "pycharm": {
     "name": "#%%\n"
    }
   }
  },
  {
   "cell_type": "code",
   "execution_count": 10,
   "outputs": [],
   "source": [
    "# finding 10 words with highest probability for first topic\n",
    "first_topic = lda.components_[0]"
   ],
   "metadata": {
    "collapsed": false,
    "pycharm": {
     "name": "#%%\n"
    }
   }
  },
  {
   "cell_type": "code",
   "execution_count": 12,
   "outputs": [
    {
     "data": {
      "text/plain": "array([14106,  5892,  7088,  4290, 12596,  5771,  5187, 12888,  7498,\n       12921])"
     },
     "execution_count": 12,
     "metadata": {},
     "output_type": "execute_result"
    }
   ],
   "source": [
    "# first topic containts probailities of 14546 words for topic 1. sort with argsort(). oncec sorted, 10 words with the highest probabilities will belong to last 10 indexes of the array.\n",
    "top_topic_words = first_topic.argsort()[-10:]\n",
    "top_topic_words"
   ],
   "metadata": {
    "collapsed": false,
    "pycharm": {
     "name": "#%%\n"
    }
   }
  },
  {
   "cell_type": "code",
   "execution_count": 13,
   "outputs": [
    {
     "name": "stdout",
     "output_type": "stream",
     "text": [
      "water\n",
      "great\n",
      "just\n",
      "drink\n",
      "sugar\n",
      "good\n",
      "flavor\n",
      "taste\n",
      "like\n",
      "tea\n"
     ]
    }
   ],
   "source": [
    "# last word with highest probability\n",
    "for i in top_topic_words:\n",
    "    print(count_vect.get_feature_names()[i])"
   ],
   "metadata": {
    "collapsed": false,
    "pycharm": {
     "name": "#%%\n"
    }
   }
  },
  {
   "cell_type": "code",
   "execution_count": 15,
   "outputs": [
    {
     "name": "stdout",
     "output_type": "stream",
     "text": [
      "Top 10 words for topic #0:\n",
      "['water', 'great', 'just', 'drink', 'sugar', 'good', 'flavor', 'taste', 'like', 'tea']\n",
      "\n",
      "\n",
      "Top 10 words for topic #1:\n",
      "['br', 'chips', 'love', 'flavor', 'chocolate', 'just', 'great', 'taste', 'good', 'like']\n",
      "\n",
      "\n",
      "Top 10 words for topic #2:\n",
      "['just', 'drink', 'orange', 'sugar', 'soda', 'water', 'like', 'juice', 'product', 'br']\n",
      "\n",
      "\n",
      "Top 10 words for topic #3:\n",
      "['gluten', 'eat', 'free', 'product', 'like', 'dogs', 'treats', 'dog', 'br', 'food']\n",
      "\n",
      "\n",
      "Top 10 words for topic #4:\n",
      "['cups', 'price', 'great', 'like', 'amazon', 'good', 'br', 'product', 'cup', 'coffee']\n",
      "\n",
      "\n"
     ]
    }
   ],
   "source": [
    "for i,topic in enumerate(lda.components_):\n",
    "    print(f'Top 10 words for topic #{i}:')\n",
    "    print([count_vect.get_feature_names()[i] for i in topic.argsort()[-10:]])\n",
    "    print('\\n')"
   ],
   "metadata": {
    "collapsed": false,
    "pycharm": {
     "name": "#%%\n"
    }
   }
  },
  {
   "cell_type": "code",
   "execution_count": 16,
   "outputs": [
    {
     "data": {
      "text/plain": "(20000, 5)"
     },
     "execution_count": 16,
     "metadata": {},
     "output_type": "execute_result"
    }
   ],
   "source": [
    "# add column to original data frame that will store topic for the text.\n",
    "topic_values = lda.transform(doc_term_matrix)\n",
    "topic_values.shape"
   ],
   "metadata": {
    "collapsed": false,
    "pycharm": {
     "name": "#%%\n"
    }
   }
  },
  {
   "cell_type": "code",
   "execution_count": 17,
   "outputs": [],
   "source": [
    "reviews_datasets['topic'] = topic_values.argmax(axis=1)"
   ],
   "metadata": {
    "collapsed": false,
    "pycharm": {
     "name": "#%%\n"
    }
   }
  },
  {
   "cell_type": "code",
   "execution_count": 18,
   "outputs": [
    {
     "data": {
      "text/plain": "   Id   ProductId          UserId                      ProfileName  \\\n0   1  B001E4KFG0  A3SGXH7AUHU8GW                       delmartian   \n1   2  B00813GRG4  A1D87F6ZCVE5NK                           dll pa   \n2   3  B000LQOCH0   ABXLMWJIXXAIN  Natalia Corres \"Natalia Corres\"   \n3   4  B000UA0QIQ  A395BORC6FGVXV                             Karl   \n4   5  B006K2ZZ7K  A1UQRSCLF8GW1T    Michael D. Bigham \"M. Wassir\"   \n\n   HelpfulnessNumerator  HelpfulnessDenominator  Score        Time  \\\n0                     1                       1      5  1303862400   \n1                     0                       0      1  1346976000   \n2                     1                       1      4  1219017600   \n3                     3                       3      2  1307923200   \n4                     0                       0      5  1350777600   \n\n                 Summary                                               Text  \\\n0  Good Quality Dog Food  I have bought several of the Vitality canned d...   \n1      Not as Advertised  Product arrived labeled as Jumbo Salted Peanut...   \n2  \"Delight\" says it all  This is a confection that has been around a fe...   \n3         Cough Medicine  If you are looking for the secret ingredient i...   \n4            Great taffy  Great taffy at a great price.  There was a wid...   \n\n   topic  \n0      3  \n1      1  \n2      1  \n3      0  \n4      1  ",
      "text/html": "<div>\n<style scoped>\n    .dataframe tbody tr th:only-of-type {\n        vertical-align: middle;\n    }\n\n    .dataframe tbody tr th {\n        vertical-align: top;\n    }\n\n    .dataframe thead th {\n        text-align: right;\n    }\n</style>\n<table border=\"1\" class=\"dataframe\">\n  <thead>\n    <tr style=\"text-align: right;\">\n      <th></th>\n      <th>Id</th>\n      <th>ProductId</th>\n      <th>UserId</th>\n      <th>ProfileName</th>\n      <th>HelpfulnessNumerator</th>\n      <th>HelpfulnessDenominator</th>\n      <th>Score</th>\n      <th>Time</th>\n      <th>Summary</th>\n      <th>Text</th>\n      <th>topic</th>\n    </tr>\n  </thead>\n  <tbody>\n    <tr>\n      <th>0</th>\n      <td>1</td>\n      <td>B001E4KFG0</td>\n      <td>A3SGXH7AUHU8GW</td>\n      <td>delmartian</td>\n      <td>1</td>\n      <td>1</td>\n      <td>5</td>\n      <td>1303862400</td>\n      <td>Good Quality Dog Food</td>\n      <td>I have bought several of the Vitality canned d...</td>\n      <td>3</td>\n    </tr>\n    <tr>\n      <th>1</th>\n      <td>2</td>\n      <td>B00813GRG4</td>\n      <td>A1D87F6ZCVE5NK</td>\n      <td>dll pa</td>\n      <td>0</td>\n      <td>0</td>\n      <td>1</td>\n      <td>1346976000</td>\n      <td>Not as Advertised</td>\n      <td>Product arrived labeled as Jumbo Salted Peanut...</td>\n      <td>1</td>\n    </tr>\n    <tr>\n      <th>2</th>\n      <td>3</td>\n      <td>B000LQOCH0</td>\n      <td>ABXLMWJIXXAIN</td>\n      <td>Natalia Corres \"Natalia Corres\"</td>\n      <td>1</td>\n      <td>1</td>\n      <td>4</td>\n      <td>1219017600</td>\n      <td>\"Delight\" says it all</td>\n      <td>This is a confection that has been around a fe...</td>\n      <td>1</td>\n    </tr>\n    <tr>\n      <th>3</th>\n      <td>4</td>\n      <td>B000UA0QIQ</td>\n      <td>A395BORC6FGVXV</td>\n      <td>Karl</td>\n      <td>3</td>\n      <td>3</td>\n      <td>2</td>\n      <td>1307923200</td>\n      <td>Cough Medicine</td>\n      <td>If you are looking for the secret ingredient i...</td>\n      <td>0</td>\n    </tr>\n    <tr>\n      <th>4</th>\n      <td>5</td>\n      <td>B006K2ZZ7K</td>\n      <td>A1UQRSCLF8GW1T</td>\n      <td>Michael D. Bigham \"M. Wassir\"</td>\n      <td>0</td>\n      <td>0</td>\n      <td>5</td>\n      <td>1350777600</td>\n      <td>Great taffy</td>\n      <td>Great taffy at a great price.  There was a wid...</td>\n      <td>1</td>\n    </tr>\n  </tbody>\n</table>\n</div>"
     },
     "execution_count": 18,
     "metadata": {},
     "output_type": "execute_result"
    }
   ],
   "source": [
    "reviews_datasets.head()"
   ],
   "metadata": {
    "collapsed": false,
    "pycharm": {
     "name": "#%%\n"
    }
   }
  },
  {
   "cell_type": "code",
   "execution_count": null,
   "outputs": [],
   "source": [],
   "metadata": {
    "collapsed": false,
    "pycharm": {
     "name": "#%%\n"
    }
   }
  }
 ],
 "metadata": {
  "kernelspec": {
   "display_name": "Python 3",
   "language": "python",
   "name": "python3"
  },
  "language_info": {
   "codemirror_mode": {
    "name": "ipython",
    "version": 2
   },
   "file_extension": ".py",
   "mimetype": "text/x-python",
   "name": "python",
   "nbconvert_exporter": "python",
   "pygments_lexer": "ipython2",
   "version": "2.7.6"
  }
 },
 "nbformat": 4,
 "nbformat_minor": 0
}
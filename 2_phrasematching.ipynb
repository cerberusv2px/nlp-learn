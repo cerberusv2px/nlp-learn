{
 "cells": [
  {
   "cell_type": "code",
   "execution_count": 1,
   "outputs": [],
   "source": [
    "import spacy\n",
    "from spacy.matcher import Matcher"
   ],
   "metadata": {
    "collapsed": false,
    "pycharm": {
     "name": "#%%\n"
    }
   }
  },
  {
   "cell_type": "code",
   "execution_count": 2,
   "outputs": [],
   "source": [
    "nlp = spacy.load('en_core_web_sm')\n",
    "m_tool = Matcher(nlp.vocab)"
   ],
   "metadata": {
    "collapsed": false,
    "pycharm": {
     "name": "#%%\n"
    }
   }
  },
  {
   "cell_type": "markdown",
   "source": [
    "## Rule-Base Matching\n",
    "1. spaCy comes with `Matcher` that can be used to specify custom rules for phrase matching.\n",
    "2. Define patterns and add them to `Matcher` and apply."
   ],
   "metadata": {
    "collapsed": false
   }
  },
  {
   "cell_type": "code",
   "execution_count": 3,
   "outputs": [],
   "source": [
    "p1 = [{'LOWER': 'quickbrownfox'}]\n",
    "p2 = [{'LOWER': 'quick'}, {'IS_PUNCT': True}, {'LOWER': 'brown'}, {'IS_PUNCT': True}, {'LOWER': 'fox'}]\n",
    "p3 = [{'LOWER': 'quick'}, {'LOWER': 'brown'}, {'LOWER': 'fox'}]\n",
    "p4 =  [{'LOWER': 'quick'}, {'LOWER': 'brownfox'}]\n"
   ],
   "metadata": {
    "collapsed": false,
    "pycharm": {
     "name": "#%%\n"
    }
   }
  },
  {
   "cell_type": "code",
   "execution_count": 4,
   "outputs": [],
   "source": [
    "m_tool.add('QBF', [p1 , p2, p3, p4])"
   ],
   "metadata": {
    "collapsed": false,
    "pycharm": {
     "name": "#%%\n"
    }
   }
  },
  {
   "cell_type": "code",
   "execution_count": 5,
   "outputs": [],
   "source": [
    "sentence = nlp(u'The quick-brown-fox jumps over the lazy dog. The quick brown fox eats well. \\\n",
    "               the quickbrownfox is dead. the dog misses the quick brownfox')"
   ],
   "metadata": {
    "collapsed": false,
    "pycharm": {
     "name": "#%%\n"
    }
   }
  },
  {
   "cell_type": "code",
   "execution_count": 6,
   "outputs": [
    {
     "name": "stdout",
     "output_type": "stream",
     "text": [
      "[(12825528024649263697, 1, 6), (12825528024649263697, 13, 16), (12825528024649263697, 21, 22), (12825528024649263697, 29, 31)]\n"
     ]
    }
   ],
   "source": [
    "# output\n",
    "# first arg: id\n",
    "# second arg: start position\n",
    "# third arg: end position\n",
    "phrase_matches = m_tool(sentence)\n",
    "print(phrase_matches)"
   ],
   "metadata": {
    "collapsed": false,
    "pycharm": {
     "name": "#%%\n"
    }
   }
  },
  {
   "cell_type": "code",
   "execution_count": 7,
   "outputs": [
    {
     "name": "stdout",
     "output_type": "stream",
     "text": [
      "12825528024649263697 QBF 1 6 quick-brown-fox\n",
      "12825528024649263697 QBF 13 16 quick brown fox\n",
      "12825528024649263697 QBF 21 22 quickbrownfox\n",
      "12825528024649263697 QBF 29 31 quick brownfox\n"
     ]
    }
   ],
   "source": [
    "for match_id, start, end in phrase_matches:\n",
    "    string_id = nlp.vocab.strings[match_id]\n",
    "    span = sentence[start:end]\n",
    "    print(match_id, string_id, start, end, span.text)"
   ],
   "metadata": {
    "collapsed": false,
    "pycharm": {
     "name": "#%%\n"
    }
   }
  },
  {
   "cell_type": "markdown",
   "source": [
    "### More options for Rule based\n",
    "\n"
   ],
   "metadata": {
    "collapsed": false,
    "pycharm": {
     "name": "#%% md\n"
    }
   }
  },
  {
   "cell_type": "code",
   "execution_count": 8,
   "outputs": [],
   "source": [
    "m_tool.remove('QBF')"
   ],
   "metadata": {
    "collapsed": false,
    "pycharm": {
     "name": "#%%\n"
    }
   }
  },
  {
   "cell_type": "code",
   "execution_count": 9,
   "outputs": [],
   "source": [
    "p1 = [{'LOWER': 'quick'}, {'IS_PUNCT': True, 'OP':'*'}, {'LOWER': 'brown'}, {'IS_PUNCT': True, 'OP':'*'}, {'LOWER': 'fox'}]\n",
    "m_tool.add('QBF', [p1])"
   ],
   "metadata": {
    "collapsed": false,
    "pycharm": {
     "name": "#%%\n"
    }
   }
  },
  {
   "cell_type": "code",
   "execution_count": 10,
   "outputs": [],
   "source": [
    "sentence = nlp(u'The quick--brown--fox jumps over the  quick-brown---fox')"
   ],
   "metadata": {
    "collapsed": false,
    "pycharm": {
     "name": "#%%\n"
    }
   }
  },
  {
   "cell_type": "code",
   "execution_count": 11,
   "outputs": [
    {
     "name": "stdout",
     "output_type": "stream",
     "text": [
      "12825528024649263697 QBF 1 6 quick--brown--fox\n",
      "12825528024649263697 QBF 10 15 quick-brown---fox\n"
     ]
    }
   ],
   "source": [
    "phrase_matches = m_tool(sentence)\n",
    "\n",
    "for match_id, start, end in phrase_matches:\n",
    "    string_id = nlp.vocab.strings[match_id]\n",
    "    span = sentence[start:end]\n",
    "    print(match_id, string_id, start, end, span.text)"
   ],
   "metadata": {
    "collapsed": false,
    "pycharm": {
     "name": "#%%\n"
    }
   }
  },
  {
   "cell_type": "markdown",
   "source": [
    "### Phrase based matching"
   ],
   "metadata": {
    "collapsed": false,
    "pycharm": {
     "name": "#%% md\n"
    }
   }
  },
  {
   "cell_type": "code",
   "execution_count": 12,
   "outputs": [],
   "source": [
    "import bs4 as bs\n",
    "import urllib.request\n",
    "import re\n",
    "import nltk"
   ],
   "metadata": {
    "collapsed": false,
    "pycharm": {
     "name": "#%%\n"
    }
   }
  },
  {
   "cell_type": "code",
   "execution_count": 14,
   "outputs": [],
   "source": [
    "\n",
    "scrapped_data = urllib.request.urlopen('https://en.wikipedia.org/wiki/Artificial_intelligence')\n",
    "article = scrapped_data.read()"
   ],
   "metadata": {
    "collapsed": false,
    "pycharm": {
     "name": "#%%\n"
    }
   }
  },
  {
   "cell_type": "code",
   "execution_count": 16,
   "outputs": [],
   "source": [
    "parsed_article = bs.BeautifulSoup(article, 'html')"
   ],
   "metadata": {
    "collapsed": false,
    "pycharm": {
     "name": "#%%\n"
    }
   }
  },
  {
   "cell_type": "code",
   "execution_count": 17,
   "outputs": [],
   "source": [
    "paragraphs = parsed_article.find_all('p')"
   ],
   "metadata": {
    "collapsed": false,
    "pycharm": {
     "name": "#%%\n"
    }
   }
  },
  {
   "cell_type": "code",
   "execution_count": 18,
   "outputs": [],
   "source": [
    "article_text = \"\"\n",
    "for p in paragraphs:\n",
    "    article_text += p.text"
   ],
   "metadata": {
    "collapsed": false,
    "pycharm": {
     "name": "#%%\n"
    }
   }
  },
  {
   "cell_type": "code",
   "execution_count": 20,
   "outputs": [],
   "source": [
    "processed_article = article_text.lower()\n",
    "processed_article = re.sub('[^a-zA-Z]', ' ', processed_article )\n",
    "processed_article = re.sub(r'\\s+', ' ', processed_article)"
   ],
   "metadata": {
    "collapsed": false,
    "pycharm": {
     "name": "#%%\n"
    }
   }
  },
  {
   "cell_type": "code",
   "execution_count": 21,
   "outputs": [],
   "source": [
    "import spacy\n",
    "from spacy.matcher import PhraseMatcher\n",
    "nlp = spacy.load('en_core_web_sm')\n",
    "phrase_matcher = PhraseMatcher(nlp.vocab)"
   ],
   "metadata": {
    "collapsed": false,
    "pycharm": {
     "name": "#%%\n"
    }
   }
  },
  {
   "cell_type": "code",
   "execution_count": 22,
   "outputs": [],
   "source": [
    "phrases = ['machine learning', 'robots', 'intelligent agents']\n",
    "\n",
    "patterns = [nlp(text) for text in phrases]\n"
   ],
   "metadata": {
    "collapsed": false,
    "pycharm": {
     "name": "#%%\n"
    }
   }
  },
  {
   "cell_type": "code",
   "execution_count": 23,
   "outputs": [
    {
     "name": "stdout",
     "output_type": "stream",
     "text": [
      "[machine learning, robots, intelligent agents]\n"
     ]
    }
   ],
   "source": [
    "print(patterns)"
   ],
   "metadata": {
    "collapsed": false,
    "pycharm": {
     "name": "#%%\n"
    }
   }
  },
  {
   "cell_type": "code",
   "execution_count": 25,
   "outputs": [],
   "source": [
    "phrase_matcher.add('AI', None, *patterns)"
   ],
   "metadata": {
    "collapsed": false,
    "pycharm": {
     "name": "#%%\n"
    }
   }
  },
  {
   "cell_type": "code",
   "execution_count": 26,
   "outputs": [],
   "source": [
    "sentence = nlp(processed_article)\n",
    "matched_phrases = phrase_matcher(sentence)"
   ],
   "metadata": {
    "collapsed": false,
    "pycharm": {
     "name": "#%%\n"
    }
   }
  },
  {
   "cell_type": "code",
   "execution_count": 28,
   "outputs": [
    {
     "name": "stdout",
     "output_type": "stream",
     "text": [
      "5530044837203964789 AI 30 32 intelligent agents\n",
      "5530044837203964789 AI 249 251 machine learning\n",
      "5530044837203964789 AI 1053 1055 machine learning\n",
      "5530044837203964789 AI 1527 1529 intelligent agents\n",
      "5530044837203964789 AI 1686 1688 machine learning\n",
      "5530044837203964789 AI 2200 2201 robots\n",
      "5530044837203964789 AI 2629 2631 machine learning\n",
      "5530044837203964789 AI 2671 2673 machine learning\n",
      "5530044837203964789 AI 2698 2700 machine learning\n",
      "5530044837203964789 AI 2999 3000 robots\n",
      "5530044837203964789 AI 4195 4196 robots\n",
      "5530044837203964789 AI 4390 4391 robots\n",
      "5530044837203964789 AI 5232 5233 robots\n",
      "5530044837203964789 AI 6681 6682 robots\n",
      "5530044837203964789 AI 6802 6803 robots\n",
      "5530044837203964789 AI 6846 6847 robots\n"
     ]
    }
   ],
   "source": [
    "for match_id, start, end in matched_phrases:\n",
    "    string_id = nlp.vocab.strings[match_id]\n",
    "    span = sentence[start:end]\n",
    "    print(match_id, string_id, start, end, span.text)"
   ],
   "metadata": {
    "collapsed": false,
    "pycharm": {
     "name": "#%%\n"
    }
   }
  },
  {
   "cell_type": "markdown",
   "source": [
    "## Stop words\n",
    "\n"
   ],
   "metadata": {
    "collapsed": false,
    "pycharm": {
     "name": "#%% md\n"
    }
   }
  },
  {
   "cell_type": "code",
   "execution_count": 29,
   "outputs": [
    {
     "name": "stdout",
     "output_type": "stream",
     "text": [
      "{'thereby', 'just', 'again', 'last', 'all', 'fifty', 'such', 'you', 'various', '‘re', 'being', 'some', 'indeed', 'much', 'whoever', 'already', 'others', '’ll', 'at', 'latterly', 'make', 'from', 'yourself', '’ve', 'was', \"'ll\", 'even', 'enough', 'beyond', 'most', 'whereby', 'four', '’re', '‘ve', 'above', 'becoming', 'never', 'nobody', 'still', 'anyhow', 'to', 'her', 'six', 'an', 'under', 'sixty', 'or', 'its', \"'s\", 'whether', 'otherwise', 'once', 'beside', 'three', 'whole', 'elsewhere', 'which', 'hundred', 'wherein', 'namely', 'less', 'those', 'become', 'except', '’m', 'i', 'also', 'n‘t', 'part', 'their', 'but', 'used', 'twelve', 'towards', 'yet', '‘ll', '‘m', 'sometimes', 'further', 'none', 'nor', '’d', 'using', 'first', 'get', 'serious', 'made', 'between', 'myself', \"'m\", 'among', 'while', 'thereupon', 'done', 'below', 'mostly', 'former', 'side', 'are', 'seeming', 'move', 'another', 'had', 'it', 'be', 'therefore', 'because', 'thru', 'seems', 'mine', 'why', 'been', 'toward', 'per', '‘d', 'whence', 'give', 'might', \"'ve\", 'formerly', 'only', 'he', 'without', 'off', 'seem', 'there', 'few', 'someone', 'what', 'over', 'then', 'your', 'not', 'whither', '’s', \"'d\", 'always', 'throughout', 'am', 'front', 'ca', 'too', 'a', 'itself', 'when', 'after', 'anywhere', 'take', 'them', 'well', 'nevertheless', 'therein', 'hereby', 'his', 'own', 'two', 'via', 'out', 'in', 'hence', 'must', 'here', 'upon', 'ten', 'wherever', 'very', 'many', 'anyone', 'my', 'thereafter', '‘s', 'about', 'is', 'became', 'see', 'call', 'somehow', 'for', 'same', 're', 'along', 'either', 'whatever', 'whereas', 'that', 'on', 'nine', 'next', 'before', 'no', 'besides', 'hers', 'more', 'thence', 'themselves', 'during', 'almost', 'eight', 'him', 'could', 'whenever', 'behind', 'anything', 'yourselves', 'unless', 'any', 'hereafter', 'often', 'whom', 'each', 'herein', 'several', 'five', 'cannot', 'sometime', 'forty', 'do', 'becomes', 'ever', 'beforehand', 'doing', 'perhaps', 'were', 'back', 'if', 'name', 'regarding', 'us', 'else', 'put', 'say', 'due', 'against', 'of', 'bottom', 'through', 'keep', 'however', 'twenty', 'whose', 'hereupon', 'together', 'nothing', 'full', 'ourselves', 'eleven', 'amount', 'by', 'whereupon', 'now', 'other', 'our', 'everywhere', 'himself', 'really', 'thus', 'everything', 'how', 'across', 'neither', 'and', 'have', 'show', 'me', 'afterwards', 'does', 'go', 'one', 'though', \"'re\", 'although', 'anyway', 'third', 'empty', 'the', 'so', 'would', 'can', 'both', 'until', 'n’t', 'as', 'has', 'fifteen', 'may', 'latter', 'alone', 'nowhere', 'onto', 'with', 'up', 'herself', 'top', \"n't\", 'every', 'please', 'quite', 'within', 'amongst', 'rather', 'least', 'ours', 'somewhere', 'down', 'seemed', 'she', 'around', 'than', 'who', 'should', 'since', 'they', 'meanwhile', 'something', 'where', 'into', 'did', 'everyone', 'we', 'whereafter', 'this', 'noone', 'yours', 'moreover', 'these', 'will'}\n"
     ]
    }
   ],
   "source": [
    "print(nlp.Defaults.stop_words)"
   ],
   "metadata": {
    "collapsed": false,
    "pycharm": {
     "name": "#%%\n"
    }
   }
  },
  {
   "cell_type": "code",
   "execution_count": 30,
   "outputs": [
    {
     "data": {
      "text/plain": "False"
     },
     "execution_count": 30,
     "metadata": {},
     "output_type": "execute_result"
    }
   ],
   "source": [
    "\n",
    "nlp.vocab['wonder'].is_stop"
   ],
   "metadata": {
    "collapsed": false,
    "pycharm": {
     "name": "#%%\n"
    }
   }
  },
  {
   "cell_type": "code",
   "execution_count": 31,
   "outputs": [
    {
     "data": {
      "text/plain": "True"
     },
     "execution_count": 31,
     "metadata": {},
     "output_type": "execute_result"
    }
   ],
   "source": [
    "nlp.vocab['is'].is_stop\n",
    "\n"
   ],
   "metadata": {
    "collapsed": false,
    "pycharm": {
     "name": "#%%\n"
    }
   }
  },
  {
   "cell_type": "code",
   "execution_count": 32,
   "outputs": [],
   "source": [
    "nlp.Defaults.stop_words.add('wonder')"
   ],
   "metadata": {
    "collapsed": false,
    "pycharm": {
     "name": "#%%\n"
    }
   }
  },
  {
   "cell_type": "code",
   "execution_count": 33,
   "outputs": [],
   "source": [
    "nlp.vocab['wonder'].is_stop = True"
   ],
   "metadata": {
    "collapsed": false,
    "pycharm": {
     "name": "#%%\n"
    }
   }
  },
  {
   "cell_type": "code",
   "execution_count": 34,
   "outputs": [
    {
     "data": {
      "text/plain": "True"
     },
     "execution_count": 34,
     "metadata": {},
     "output_type": "execute_result"
    }
   ],
   "source": [
    "nlp.vocab['wonder'].is_stop"
   ],
   "metadata": {
    "collapsed": false,
    "pycharm": {
     "name": "#%%\n"
    }
   }
  },
  {
   "cell_type": "code",
   "execution_count": null,
   "outputs": [],
   "source": [],
   "metadata": {
    "collapsed": false,
    "pycharm": {
     "name": "#%%\n"
    }
   }
  }
 ],
 "metadata": {
  "kernelspec": {
   "display_name": "Python 3",
   "language": "python",
   "name": "python3"
  },
  "language_info": {
   "codemirror_mode": {
    "name": "ipython",
    "version": 2
   },
   "file_extension": ".py",
   "mimetype": "text/x-python",
   "name": "python",
   "nbconvert_exporter": "python",
   "pygments_lexer": "ipython2",
   "version": "2.7.6"
  }
 },
 "nbformat": 4,
 "nbformat_minor": 0
}
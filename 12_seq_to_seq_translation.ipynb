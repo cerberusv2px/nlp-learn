{
  "nbformat": 4,
  "nbformat_minor": 0,
  "metadata": {
    "kernelspec": {
      "display_name": "Python 3",
      "language": "python",
      "name": "python3"
    },
    "language_info": {
      "codemirror_mode": {
        "name": "ipython",
        "version": 2
      },
      "file_extension": ".py",
      "mimetype": "text/x-python",
      "name": "python",
      "nbconvert_exporter": "python",
      "pygments_lexer": "ipython2",
      "version": "2.7.6"
    },
    "colab": {
      "name": "12_seq_to_seq_translation.ipynb",
      "provenance": []
    },
    "accelerator": "TPU"
  },
  "cells": [
    {
      "cell_type": "code",
      "metadata": {
        "collapsed": true,
        "id": "4Vq0RdqmCcDY"
      },
      "source": [
        "import os, sys\n",
        "from tensorflow.keras.models import Model\n",
        "from tensorflow.keras.layers import Input, LSTM, GRU, Dense, Embedding\n",
        "from keras.preprocessing.text import Tokenizer\n",
        "from keras.preprocessing.sequence import pad_sequences\n",
        "from tensorflow.keras.utils import to_categorical\n",
        "import numpy as np\n",
        "import matplotlib.pyplot as plt\n"
      ],
      "execution_count": 1,
      "outputs": []
    },
    {
      "cell_type": "code",
      "metadata": {
        "pycharm": {
          "name": "#%%\n"
        },
        "id": "K4X5v_dnCcDe"
      },
      "source": [
        "BATCH_SIZE = 64\n",
        "EPOCHS = 20\n",
        "LSTM_NODES = 256\n",
        "NUM_SENTENCES = 20000\n",
        "MAX_SENTENCE_LENGTH = 50\n",
        "MAX_NUM_WORDS = 20000\n",
        "EMBEDDING_SIZE = 100"
      ],
      "execution_count": 2,
      "outputs": []
    },
    {
      "cell_type": "markdown",
      "metadata": {
        "collapsed": false,
        "pycharm": {
          "name": "#%% md\n"
        },
        "id": "VDqc3kiGCcDf"
      },
      "source": [
        "### Data Preprocessing\n",
        "Neural machine translation models are often based on seq2seq architecture. The seq2seq architecture is an encoder-decoder architecture which consists of two LSTM. encoder LSTM and decoder LSTM. The input to the encoder LSTM is the sentence in the original language; the input to the decoder LSTM is the sentence in the translated laguage with a start-of-sentence token. Output is the actual targe sentence with an end-of-sentence token.\n",
        "\n",
        "* eos = end of sentence\n",
        "* sos = start of sentence"
      ]
    },
    {
      "cell_type": "code",
      "metadata": {
        "pycharm": {
          "name": "#%%\n"
        },
        "id": "XjGxp6OmCcDh",
        "outputId": "d5c4b30d-48bc-4121-fd7c-7b95363cb630",
        "colab": {
          "base_uri": "https://localhost:8080/"
        }
      },
      "source": [
        "input_sentences = []\n",
        "output_sentences = []\n",
        "output_sentences_inputs = []\n",
        "\n",
        "count = 0\n",
        "for line in open('datasets/france.txt', encoding='utf-8'):\n",
        "    count += 1\n",
        "\n",
        "    if count > NUM_SENTENCES:\n",
        "        break\n",
        "\n",
        "    if '\\t' not in line:\n",
        "        continue\n",
        "\n",
        "    a = line.rstrip().split('\\t')\n",
        "    input_sentence, output = a[0], a[1]\n",
        "\n",
        "    output_sentence = output + ' <eos>'\n",
        "    output_sentences_input = '<sos> ' + output\n",
        "\n",
        "    input_sentences.append(input_sentence)\n",
        "    output_sentences.append(output_sentence)\n",
        "    output_sentences_inputs.append(output_sentences_input)\n",
        "\n",
        "print(\"num samples input:\", len(input_sentences))\n",
        "print(\"num samples output:\", len(output_sentences))\n",
        "print(\"num samples output input:\", len(output_sentences_inputs))\n"
      ],
      "execution_count": 5,
      "outputs": [
        {
          "output_type": "stream",
          "name": "stdout",
          "text": [
            "num samples input: 2732\n",
            "num samples output: 2732\n",
            "num samples output input: 2732\n"
          ]
        }
      ]
    },
    {
      "cell_type": "code",
      "metadata": {
        "pycharm": {
          "name": "#%%\n"
        },
        "id": "0LgT56dqCcDk",
        "outputId": "aa6dba50-8e2a-4ddb-af2d-91ee7f446f94",
        "colab": {
          "base_uri": "https://localhost:8080/"
        }
      },
      "source": [
        "print(input_sentences[172])\n",
        "print(output_sentences[172])\n",
        "print(output_sentences_inputs[172])"
      ],
      "execution_count": 6,
      "outputs": [
        {
          "output_type": "stream",
          "name": "stdout",
          "text": [
            "Beat it.\n",
            "Pars ! <eos>\n",
            "<sos> Pars !\n"
          ]
        }
      ]
    },
    {
      "cell_type": "markdown",
      "metadata": {
        "collapsed": false,
        "pycharm": {
          "name": "#%% md\n"
        },
        "id": "Q_4Je3y7CcDl"
      },
      "source": [
        "### Tokenization and Padding\n",
        "\n",
        "\n"
      ]
    },
    {
      "cell_type": "code",
      "metadata": {
        "pycharm": {
          "name": "#%%\n"
        },
        "id": "5FT1V7bLCcDm",
        "outputId": "918dfa7b-d313-4980-aa68-afd6c26aaba0",
        "colab": {
          "base_uri": "https://localhost:8080/"
        }
      },
      "source": [
        "input_tokenizer = Tokenizer(num_words=MAX_NUM_WORDS)\n",
        "input_tokenizer.fit_on_texts(input_sentences)\n",
        "input_integer_seq = input_tokenizer.texts_to_sequences(input_sentences)\n",
        "\n",
        "word2idx_inputs = input_tokenizer.word_index\n",
        "print('Total unique words in the input: %s' % len(word2idx_inputs))\n",
        "\n",
        "max_input_len = max(len(sen) for sen in input_integer_seq)\n",
        "print(\"Length of longest sentence in input: %g\" % max_input_len)"
      ],
      "execution_count": 7,
      "outputs": [
        {
          "output_type": "stream",
          "name": "stdout",
          "text": [
            "Total unique words in the input: 698\n",
            "Length of longest sentence in input: 4\n"
          ]
        }
      ]
    },
    {
      "cell_type": "code",
      "metadata": {
        "pycharm": {
          "name": "#%%\n"
        },
        "id": "eMtY2mjCCcDo",
        "outputId": "642d600d-47f8-4db7-a78d-c56fcda8d453",
        "colab": {
          "base_uri": "https://localhost:8080/"
        }
      },
      "source": [
        "output_tokenizer = Tokenizer(num_words=MAX_NUM_WORDS, filters='')\n",
        "output_tokenizer.fit_on_texts(output_sentences + output_sentences_inputs)\n",
        "output_integer_seq = output_tokenizer.texts_to_sequences(output_sentences)\n",
        "output_input_integer_seq = output_tokenizer.texts_to_sequences(output_sentences_inputs)\n",
        "\n",
        "word2idx_outputs = output_tokenizer.word_index\n",
        "print('Total unique words in the output: %s' % len(word2idx_outputs))\n",
        "\n",
        "num_words_output = len(word2idx_outputs) + 1\n",
        "max_out_len = max(len(sen) for sen in output_integer_seq)\n",
        "print(\"Length of longest sentence in the output: %g\" % max_out_len)"
      ],
      "execution_count": 8,
      "outputs": [
        {
          "output_type": "stream",
          "name": "stdout",
          "text": [
            "Total unique words in the output: 1942\n",
            "Length of longest sentence in the output: 11\n"
          ]
        }
      ]
    },
    {
      "cell_type": "code",
      "metadata": {
        "pycharm": {
          "name": "#%%\n"
        },
        "id": "3vExAKRHCcDp",
        "outputId": "cef2dbce-7063-43ff-e7c8-10a28e4654f4",
        "colab": {
          "base_uri": "https://localhost:8080/"
        }
      },
      "source": [
        "encoder_input_sequences = pad_sequences(input_integer_seq, maxlen=max_input_len)\n",
        "print(\"encoder_input_sequences.shape:\", encoder_input_sequences.shape)\n",
        "print(\"encoder_input_sequences[172]:\", encoder_input_sequences[172])"
      ],
      "execution_count": 9,
      "outputs": [
        {
          "output_type": "stream",
          "name": "stdout",
          "text": [
            "encoder_input_sequences.shape: (2732, 4)\n",
            "encoder_input_sequences[172]: [ 0  0 61  2]\n"
          ]
        }
      ]
    },
    {
      "cell_type": "markdown",
      "metadata": {
        "collapsed": false,
        "pycharm": {
          "name": "#%% md\n"
        },
        "id": "kED4hVRaCcDq"
      },
      "source": [
        "Since there are 20,000 sentences in input and each input sentence is of length 5, the shape of input is now (20000,5). Here the integer sequence for the sentence at index 172 of input sentence, you can see that there are 3 zeros followed by values 304 and 4. Sentence at index 172 is `Beat it`. The tokenizer divided the sentence into two words `beat` and `it`, converted them into integers, and then applied pre-padding by adding three zeros at the start of the corresponding integer sequence for the sentence at index 172 of input list\n",
        "\n",
        "\n",
        "To verify that integer for `beat` and `it` are 304 and 4\n"
      ]
    },
    {
      "cell_type": "code",
      "metadata": {
        "pycharm": {
          "name": "#%%\n"
        },
        "id": "m4rPu3RUCcDr",
        "outputId": "d53b1e2e-ea76-4f6b-cb11-f44996e306ca",
        "colab": {
          "base_uri": "https://localhost:8080/"
        }
      },
      "source": [
        "print(word2idx_inputs[\"beat\"])\n",
        "print(word2idx_inputs[\"it\"])\n"
      ],
      "execution_count": 10,
      "outputs": [
        {
          "output_type": "stream",
          "name": "stdout",
          "text": [
            "61\n",
            "2\n"
          ]
        }
      ]
    },
    {
      "cell_type": "code",
      "metadata": {
        "pycharm": {
          "name": "#%%\n"
        },
        "id": "-JKSwUx6CcDs",
        "outputId": "435ce5b9-b066-4b1e-cfd6-910772049c45",
        "colab": {
          "base_uri": "https://localhost:8080/"
        }
      },
      "source": [
        "decoder_input_sequences = pad_sequences(output_input_integer_seq, maxlen=max_out_len, padding='post')\n",
        "print(\"decoder_input_sequences.shape:\", decoder_input_sequences.shape)\n",
        "print(\"decoder_input_sequences[172]:\", decoder_input_sequences[172])"
      ],
      "execution_count": 11,
      "outputs": [
        {
          "output_type": "stream",
          "name": "stdout",
          "text": [
            "decoder_input_sequences.shape: (2732, 11)\n",
            "decoder_input_sequences[172]: [  2 103   3   0   0   0   0   0   0   0   0]\n"
          ]
        }
      ]
    },
    {
      "cell_type": "markdown",
      "metadata": {
        "collapsed": false,
        "pycharm": {
          "name": "#%% md\n"
        },
        "id": "oPi7UVvHCcDt"
      },
      "source": [
        "In the case of decoder, the post-padding is applied, which means that zeros are appended at the end of the sentence. In encoder, zeros were padded at the beginning. The reason behind this approach is that encoder output is based on the words occurring at the end of the sentence, therefore the original words were kept at the end of the sentence and zeros were padded at the beginning. On the other hand, in the case of decoder, the processing starts from beginning of sentence, and therefore post padding is performed on decoder inputs and outputs.\n"
      ]
    },
    {
      "cell_type": "markdown",
      "metadata": {
        "collapsed": false,
        "pycharm": {
          "name": "#%% md\n"
        },
        "id": "8p7hHdEeCcDt"
      },
      "source": [
        "### Word embedding\n",
        "\n"
      ]
    },
    {
      "cell_type": "code",
      "metadata": {
        "pycharm": {
          "name": "#%%\n"
        },
        "id": "uV8yJ-6zCcDv"
      },
      "source": [
        "from numpy import array\n",
        "from numpy import asarray\n",
        "from numpy import zeros\n",
        "\n",
        "embeddings_dictionary = dict()\n",
        "\n",
        "glove_file = open(r'datasets/glove.6B.100d.txt', encoding=\"utf8\")\n",
        "\n",
        "for line in glove_file:\n",
        "    records = line.split()\n",
        "    word = records[0]\n",
        "    vector_dimensions = asarray(records[1:], dtype='float32')\n",
        "    embeddings_dictionary[word] = vector_dimensions\n",
        "glove_file.close()\n"
      ],
      "execution_count": 12,
      "outputs": []
    },
    {
      "cell_type": "markdown",
      "metadata": {
        "collapsed": false,
        "pycharm": {
          "name": "#%% md\n"
        },
        "id": "JT0RFCJeCcDv"
      },
      "source": [
        "Create a matrix where the row number will represent the integer value for the word and the columns will correspond to the dimensions of the word. This matrix will contain the word embeddings for the words in our input sentences.\n",
        "\n"
      ]
    },
    {
      "cell_type": "code",
      "metadata": {
        "pycharm": {
          "name": "#%%\n"
        },
        "id": "F2OuWNIyCcDw"
      },
      "source": [
        "num_words = min(MAX_NUM_WORDS, len(word2idx_inputs)+1)\n",
        "embedding_matrix = zeros((num_words, EMBEDDING_SIZE))\n",
        "for word, index in word2idx_inputs.items():\n",
        "    embedding_vector = embeddings_dictionary.get(word)\n",
        "    if embedding_vector is not None:\n",
        "        embedding_matrix[index] = embedding_vector"
      ],
      "execution_count": 40,
      "outputs": []
    },
    {
      "cell_type": "code",
      "metadata": {
        "pycharm": {
          "name": "#%%\n"
        },
        "id": "WBWDopn7CcDw",
        "outputId": "91da7800-0045-4807-eefe-f9df247c4709",
        "colab": {
          "base_uri": "https://localhost:8080/",
          "height": 163
        }
      },
      "source": [
        "print(embeddings_dictionary['run'])"
      ],
      "execution_count": 41,
      "outputs": [
        {
          "output_type": "error",
          "ename": "KeyError",
          "evalue": "ignored",
          "traceback": [
            "\u001b[0;31m---------------------------------------------------------------------------\u001b[0m",
            "\u001b[0;31mKeyError\u001b[0m                                  Traceback (most recent call last)",
            "\u001b[0;32m<ipython-input-41-5e6698daeee5>\u001b[0m in \u001b[0;36m<module>\u001b[0;34m()\u001b[0m\n\u001b[0;32m----> 1\u001b[0;31m \u001b[0mprint\u001b[0m\u001b[0;34m(\u001b[0m\u001b[0membeddings_dictionary\u001b[0m\u001b[0;34m[\u001b[0m\u001b[0;34m'run'\u001b[0m\u001b[0;34m]\u001b[0m\u001b[0;34m)\u001b[0m\u001b[0;34m\u001b[0m\u001b[0;34m\u001b[0m\u001b[0m\n\u001b[0m",
            "\u001b[0;31mKeyError\u001b[0m: 'run'"
          ]
        }
      ]
    },
    {
      "cell_type": "code",
      "metadata": {
        "pycharm": {
          "name": "#%%\n"
        },
        "id": "UeT73_zMCcDx",
        "outputId": "79860455-b434-40f8-e294-91df41348688",
        "colab": {
          "base_uri": "https://localhost:8080/"
        }
      },
      "source": [
        "print(embedding_matrix[5])"
      ],
      "execution_count": 39,
      "outputs": [
        {
          "output_type": "stream",
          "name": "stdout",
          "text": [
            "[0. 0. 0. 0. 0. 0. 0. 0. 0. 0. 0. 0. 0. 0. 0. 0. 0. 0. 0. 0. 0. 0. 0. 0.\n",
            " 0. 0. 0. 0. 0. 0. 0. 0. 0. 0. 0. 0. 0. 0. 0. 0. 0. 0. 0. 0. 0. 0. 0. 0.\n",
            " 0. 0. 0. 0. 0. 0. 0. 0. 0. 0. 0. 0. 0. 0. 0. 0. 0. 0. 0. 0. 0. 0. 0. 0.\n",
            " 0. 0. 0. 0. 0. 0. 0. 0. 0. 0. 0. 0. 0. 0. 0. 0. 0. 0. 0. 0. 0. 0. 0. 0.\n",
            " 0. 0. 0. 0.]\n"
          ]
        }
      ]
    },
    {
      "cell_type": "code",
      "metadata": {
        "pycharm": {
          "name": "#%%\n"
        },
        "id": "KLP9o8njCcDy"
      },
      "source": [
        "embedding_layer = Embedding(num_words, EMBEDDING_SIZE, weights=[embedding_matrix], input_length=max_input_len)"
      ],
      "execution_count": 18,
      "outputs": []
    },
    {
      "cell_type": "markdown",
      "metadata": {
        "collapsed": false,
        "pycharm": {
          "name": "#%% md\n"
        },
        "id": "vIg3M8lECcDy"
      },
      "source": [
        "### Creating Model\n",
        "First we define out outputs, as we know that output will be sequence of words. Total number of unique words in output are 9500. Therefore, each word in the output can be any of 9500 words. The length of output sentence is 12. And for each input sentence, we need a corresponding output sentence. Therefore, the final shape of output will be:\n",
        "`(number of inputs, length of output sentence, number of words in output)`"
      ]
    },
    {
      "cell_type": "code",
      "metadata": {
        "pycharm": {
          "name": "#%%\n"
        },
        "id": "8fs5h3axCcDz"
      },
      "source": [
        "# create empty output array\n",
        "decoder_targets_one_hot = np.zeros((len(input_sentences), max_out_len, num_words_output), dtype='float32')"
      ],
      "execution_count": 19,
      "outputs": []
    },
    {
      "cell_type": "code",
      "metadata": {
        "pycharm": {
          "name": "#%%\n"
        },
        "id": "RWZ4iGr8CcDz",
        "outputId": "944e59ea-edb8-426a-b2d1-1eed0eea0ccd",
        "colab": {
          "base_uri": "https://localhost:8080/"
        }
      },
      "source": [
        "decoder_targets_one_hot.shape\n"
      ],
      "execution_count": 20,
      "outputs": [
        {
          "output_type": "execute_result",
          "data": {
            "text/plain": [
              "(2732, 11, 1943)"
            ]
          },
          "metadata": {},
          "execution_count": 20
        }
      ]
    },
    {
      "cell_type": "markdown",
      "metadata": {
        "collapsed": false,
        "pycharm": {
          "name": "#%% md\n"
        },
        "id": "HxvgeOYyCcD0"
      },
      "source": [
        "To make predictions, the final layer of the model will be dense layer, therefore we need the outputs in the form of one-hot encoded vectors, since we will be using softmax activation function at the dense layer. To create such one-hot encoded output, the next step is to assign 1 to the column number that corresponds to the integer representation of the word.\n",
        "\n",
        "\n"
      ]
    },
    {
      "cell_type": "code",
      "metadata": {
        "pycharm": {
          "name": "#%%\n"
        },
        "id": "to-7r9peCcD0"
      },
      "source": [
        "for i ,d in enumerate(decoder_input_sequences):\n",
        "    for t, word in enumerate(d):\n",
        "        decoder_targets_one_hot[i,t,word] = 1"
      ],
      "execution_count": 21,
      "outputs": []
    },
    {
      "cell_type": "markdown",
      "metadata": {
        "collapsed": false,
        "pycharm": {
          "name": "#%% md\n"
        },
        "id": "lmfKCP8HCcD0"
      },
      "source": [
        "The input to the encoder will be the sentence in English and output will be the hidden state and cell state of the LSTM"
      ]
    },
    {
      "cell_type": "code",
      "metadata": {
        "pycharm": {
          "name": "#%%\n"
        },
        "id": "SSOrBXRPCcD1"
      },
      "source": [
        "encoder_inputs_placeholdre = Input(shape=(max_input_len,))\n",
        "x = embedding_layer(encoder_inputs_placeholdre)\n",
        "encoder = LSTM(LSTM_NODES, return_state=True)\n",
        "\n",
        "encoder_outputs, h,c = encoder(x)\n",
        "encoder_states = [h,c]"
      ],
      "execution_count": 22,
      "outputs": []
    },
    {
      "cell_type": "markdown",
      "metadata": {
        "collapsed": false,
        "pycharm": {
          "name": "#%% md\n"
        },
        "id": "duPv6R2dCcD1"
      },
      "source": [
        "The decoder will have two inputs: hidden state and cell state from the encoder and the input sentence, which actually will be the output sentence with an `<sos>` token appended at beginning"
      ]
    },
    {
      "cell_type": "code",
      "metadata": {
        "pycharm": {
          "name": "#%%\n"
        },
        "id": "5Dp_mz2fCcD1"
      },
      "source": [
        "decoder_inputs_placeholder = Input(shape=(max_out_len,))\n",
        "decoder_embedding = Embedding(num_words_output, LSTM_NODES)\n",
        "decoder_inputs_x = decoder_embedding(decoder_inputs_placeholder)\n",
        "\n",
        "decoder_lstm = LSTM(LSTM_NODES, return_sequences=True, return_state=True)\n",
        "decoder_outputs, _,_ = decoder_lstm(decoder_inputs_x, initial_state=encoder_states)"
      ],
      "execution_count": 23,
      "outputs": []
    },
    {
      "cell_type": "markdown",
      "metadata": {
        "collapsed": false,
        "pycharm": {
          "name": "#%% md\n"
        },
        "id": "hQLkIFEXCcD2"
      },
      "source": [
        "Finally, the output from the decoder LSTM is passed through a dense layer to predict decoder outputs\n",
        "\n"
      ]
    },
    {
      "cell_type": "code",
      "metadata": {
        "pycharm": {
          "name": "#%%\n"
        },
        "id": "9HN6gwcxCcD2"
      },
      "source": [
        "decoder_dense = Dense(num_words_output, activation='softmax')\n",
        "decoder_outputs = decoder_dense(decoder_outputs)"
      ],
      "execution_count": 24,
      "outputs": []
    },
    {
      "cell_type": "code",
      "metadata": {
        "pycharm": {
          "name": "#%%\n"
        },
        "id": "3fayzlSHCcD2"
      },
      "source": [
        "model = Model([encoder_inputs_placeholdre, decoder_inputs_placeholder], decoder_outputs)\n",
        "\n",
        "model.compile(optimizer='rmsprop', loss='categorical_crossentropy', metrics=['accuracy'])"
      ],
      "execution_count": 25,
      "outputs": []
    },
    {
      "cell_type": "code",
      "metadata": {
        "pycharm": {
          "name": "#%%\n"
        },
        "id": "x4Euk5CSCcD3",
        "outputId": "794eccb8-c96e-4628-8e67-138c67d9acf6",
        "colab": {
          "base_uri": "https://localhost:8080/",
          "height": 481
        }
      },
      "source": [
        "from tensorflow.keras.utils import plot_model\n",
        "plot_model(model, to_file='model_plot4a.png', show_shapes=True, show_layer_names=True)"
      ],
      "execution_count": 26,
      "outputs": [
        {
          "output_type": "execute_result",
          "data": {
            "image/png": "[encoded data removed]",
            "text/plain": [
              "<IPython.core.display.Image object>"
            ]
          },
          "metadata": {},
          "execution_count": 26
        }
      ]
    },
    {
      "cell_type": "markdown",
      "metadata": {
        "collapsed": false,
        "pycharm": {
          "name": "#%% md\n"
        },
        "id": "t1NwEFSXCcD3"
      },
      "source": [
        "Here we have two types of input. `input_1` is the input placeholder for the encoder, which is embedded and passed through `lstm_1` layer, which basically is the encoder LSTM. There are three outputs from `lstm1` layer:\n",
        "* the output layer\n",
        "* the hidden layer\n",
        "* the cell state\n",
        "However, only the cell state and hidden state are passed to the decoder.\n",
        "\n",
        "Here `lstm2` layer is decoder LSTM. the `input2` contains the output sentences with `<sos>` token appended at the start. `input2` is also passed through an embedding layer and is used as input to the decoder LSTM, `lstm2`. Finally, the output from decoder LSTM is passed through the dense layer to make predictions.\n",
        "\n"
      ]
    },
    {
      "cell_type": "code",
      "metadata": {
        "pycharm": {
          "name": "#%%\n",
          "is_executing": true
        },
        "id": "N0CPpwKjCcD3",
        "outputId": "7b9ba59c-e459-4f5d-cc04-ff5db6d69b56",
        "colab": {
          "base_uri": "https://localhost:8080/"
        }
      },
      "source": [
        "r = model.fit([encoder_input_sequences, decoder_input_sequences],\n",
        "              decoder_targets_one_hot,\n",
        "              batch_size=BATCH_SIZE,\n",
        "              epochs=EPOCHS,\n",
        "              validation_split=0.1)"
      ],
      "execution_count": 27,
      "outputs": [
        {
          "output_type": "stream",
          "name": "stdout",
          "text": [
            "Epoch 1/20\n",
            "39/39 [==============================] - 12s 201ms/step - loss: 2.5864 - accuracy: 0.7042 - val_loss: 2.0509 - val_accuracy: 0.7087\n",
            "Epoch 2/20\n",
            "39/39 [==============================] - 7s 175ms/step - loss: 1.5354 - accuracy: 0.7652 - val_loss: 1.9064 - val_accuracy: 0.7087\n",
            "Epoch 3/20\n",
            "39/39 [==============================] - 7s 177ms/step - loss: 1.3346 - accuracy: 0.7943 - val_loss: 1.8126 - val_accuracy: 0.7366\n",
            "Epoch 4/20\n",
            "39/39 [==============================] - 7s 175ms/step - loss: 1.1812 - accuracy: 0.8085 - val_loss: 1.6970 - val_accuracy: 0.7432\n",
            "Epoch 5/20\n",
            "39/39 [==============================] - 7s 175ms/step - loss: 1.0638 - accuracy: 0.8290 - val_loss: 1.6162 - val_accuracy: 0.7767\n",
            "Epoch 6/20\n",
            "39/39 [==============================] - 7s 175ms/step - loss: 0.9632 - accuracy: 0.8428 - val_loss: 1.5243 - val_accuracy: 0.8102\n",
            "Epoch 7/20\n",
            "39/39 [==============================] - 7s 175ms/step - loss: 0.8736 - accuracy: 0.8559 - val_loss: 1.4767 - val_accuracy: 0.8258\n",
            "Epoch 8/20\n",
            "39/39 [==============================] - 7s 175ms/step - loss: 0.7950 - accuracy: 0.8679 - val_loss: 1.4075 - val_accuracy: 0.8351\n",
            "Epoch 9/20\n",
            "39/39 [==============================] - 7s 177ms/step - loss: 0.7271 - accuracy: 0.8801 - val_loss: 1.3870 - val_accuracy: 0.8567\n",
            "Epoch 10/20\n",
            "39/39 [==============================] - 7s 176ms/step - loss: 0.6658 - accuracy: 0.8905 - val_loss: 1.3458 - val_accuracy: 0.8593\n",
            "Epoch 11/20\n",
            "39/39 [==============================] - 7s 176ms/step - loss: 0.6108 - accuracy: 0.8986 - val_loss: 1.3356 - val_accuracy: 0.8646\n",
            "Epoch 12/20\n",
            "39/39 [==============================] - 7s 177ms/step - loss: 0.5597 - accuracy: 0.9065 - val_loss: 1.3048 - val_accuracy: 0.8679\n",
            "Epoch 13/20\n",
            "39/39 [==============================] - 7s 178ms/step - loss: 0.5132 - accuracy: 0.9140 - val_loss: 1.3099 - val_accuracy: 0.8709\n",
            "Epoch 14/20\n",
            "39/39 [==============================] - 7s 178ms/step - loss: 0.4699 - accuracy: 0.9209 - val_loss: 1.2712 - val_accuracy: 0.8759\n",
            "Epoch 15/20\n",
            "39/39 [==============================] - 7s 179ms/step - loss: 0.4299 - accuracy: 0.9277 - val_loss: 1.2663 - val_accuracy: 0.8792\n",
            "Epoch 16/20\n",
            "39/39 [==============================] - 7s 174ms/step - loss: 0.3920 - accuracy: 0.9348 - val_loss: 1.2577 - val_accuracy: 0.8806\n",
            "Epoch 17/20\n",
            "39/39 [==============================] - 7s 179ms/step - loss: 0.3569 - accuracy: 0.9418 - val_loss: 1.2467 - val_accuracy: 0.8832\n",
            "Epoch 18/20\n",
            "39/39 [==============================] - 7s 179ms/step - loss: 0.3253 - accuracy: 0.9470 - val_loss: 1.2422 - val_accuracy: 0.8845\n",
            "Epoch 19/20\n",
            "39/39 [==============================] - 7s 175ms/step - loss: 0.2955 - accuracy: 0.9526 - val_loss: 1.2298 - val_accuracy: 0.8885\n",
            "Epoch 20/20\n",
            "39/39 [==============================] - 7s 177ms/step - loss: 0.2681 - accuracy: 0.9577 - val_loss: 1.2180 - val_accuracy: 0.8882\n"
          ]
        }
      ]
    },
    {
      "cell_type": "markdown",
      "metadata": {
        "collapsed": false,
        "pycharm": {
          "name": "#%% md\n"
        },
        "id": "38S7RFS3CcD4"
      },
      "source": [
        "Inputs on the left of Encoder/Decoder, outputs on the right.\n",
        "\n",
        "step 1:\n",
        "\n",
        "`I'm ill -> Encoder -> enc(h1,c1)`\n",
        "\n",
        "`enc(h1,c1) + <sos> -> Decoder -> je + dec(h1,c1)`\n",
        "\n",
        "step 2:\n",
        "\n",
        "`enc(h1,c1) + je -> Decoder -> suis + dec(h2,c2)`\n",
        "\n",
        "step 3:\n",
        "\n",
        "`enc(h2,c2) + suis -> Decoder -> malade. + dec(h3,c3)`\n",
        "\n",
        "step 4:\n",
        "\n",
        "`enc(h3,c3) + malade. -> Decoder -> <eos> + dec(h4,c4)`"
      ]
    },
    {
      "cell_type": "markdown",
      "metadata": {
        "collapsed": false,
        "pycharm": {
          "name": "#%% md\n"
        },
        "id": "5CJQhbubCcD4"
      },
      "source": [
        "However, during predictions the next word will be predicted on the basis of the previous word, which in turn is also predicted in the previous time-step. Now you will understand the purpose of `<sos>` and `<eos>` tokens. While making actual predictions, the full output sequences is not available, in fact that is what we have to predict. During prediction the only word available to us is `<sos>` since all output sentences start with `<sos>`.\n",
        "\n",
        "\n",
        "// Inputs on the left of Encoder/Decoder, outputs on the right.\n",
        "\n",
        "Step 1:\n",
        "`I'm ill -> Encoder -> enc(h1,c1)`\n",
        "\n",
        "`enc(h1,c1) + <sos> -> Decoder -> je + dec(h1,c1)`\n",
        "\n",
        "step 2:\n",
        "\n",
        "`enc(h1,c1) + je -> Decoder -> suis + dec(h2,c2)`\n",
        "\n",
        "step 3:\n",
        "\n",
        "`enc(h2,c2) + suis -> Decoder -> malade. + dec(h3,c3)`\n",
        "\n",
        "step 4:\n",
        "\n",
        "`enc(h3,c3) + malade. -> Decoder -> <eos> + dec(h4,c4)`"
      ]
    },
    {
      "cell_type": "markdown",
      "metadata": {
        "collapsed": false,
        "pycharm": {
          "name": "#%% md\n"
        },
        "id": "aMqjQLfCCcD5"
      },
      "source": [
        "In step1, the hiddne state and cell state of encoder, and the `<sos>` is used as input to the decoder. The decoder predicts a word `y1` which may or may not be true. However, as per our model, the probability of correct prediction is `0.7911`. At step2, the decoder hidden state and cell state from step1, along with `y1`, is used as input to the decoder, which predicts `y2`. The process continues until the `<eos>` token is encountered. All the predicted outputs from decoder are then concatenated to form the final output sentence."
      ]
    },
    {
      "cell_type": "code",
      "metadata": {
        "pycharm": {
          "name": "#%%\n"
        },
        "id": "sToV0rg0CcD5"
      },
      "source": [
        "encoder_model = Model(encoder_inputs_placeholdre, encoder_states)"
      ],
      "execution_count": 28,
      "outputs": []
    },
    {
      "cell_type": "markdown",
      "metadata": {
        "collapsed": false,
        "pycharm": {
          "name": "#%% md\n"
        },
        "id": "dDs47rUgCcD5"
      },
      "source": [
        "Since now at each step, we need the decoder hidden and cell states, we will modify our model to accept the hidden and cell state as:"
      ]
    },
    {
      "cell_type": "code",
      "metadata": {
        "pycharm": {
          "name": "#%%\n"
        },
        "id": "0o5Vct1ECcD6"
      },
      "source": [
        "decoder_state_input_h = Input(shape=(LSTM_NODES,))\n",
        "decoder_state_input_c = Input(shape=(LSTM_NODES,))\n",
        "decoder_states_inputs = [decoder_state_input_h, decoder_state_input_c]"
      ],
      "execution_count": 29,
      "outputs": []
    },
    {
      "cell_type": "markdown",
      "metadata": {
        "collapsed": false,
        "pycharm": {
          "name": "#%% md\n"
        },
        "id": "lO_bn3sBCcD6"
      },
      "source": [
        "Now at each time step, there will be only single word in the decoder input, we need to modify the decoder embedding layer"
      ]
    },
    {
      "cell_type": "code",
      "metadata": {
        "pycharm": {
          "name": "#%%\n"
        },
        "id": "cULueiNXCcD6"
      },
      "source": [
        "decoder_inputs_single = Input(shape=(1,))\n",
        "decoder_inputs_single_x = decoder_embedding(decoder_inputs_single)"
      ],
      "execution_count": 30,
      "outputs": []
    },
    {
      "cell_type": "markdown",
      "metadata": {
        "collapsed": false,
        "pycharm": {
          "name": "#%% md\n"
        },
        "id": "74AWIPb4CcD6"
      },
      "source": [
        "Next, we need to create the placeholder for decoder outputs"
      ]
    },
    {
      "cell_type": "code",
      "metadata": {
        "pycharm": {
          "name": "#%%\n"
        },
        "id": "JapKphrVCcD7"
      },
      "source": [
        "decoder_outputs, h,c = decoder_lstm(decoder_inputs_single_x, initial_state=decoder_states_inputs)"
      ],
      "execution_count": 31,
      "outputs": []
    },
    {
      "cell_type": "markdown",
      "metadata": {
        "collapsed": false,
        "pycharm": {
          "name": "#%% md\n"
        },
        "id": "6FQdY0PFCcD7"
      },
      "source": [
        "To make predictions, the decoder output is passed through the dense layer"
      ]
    },
    {
      "cell_type": "code",
      "metadata": {
        "pycharm": {
          "name": "#%%\n"
        },
        "id": "dO1I3-mSCcD7"
      },
      "source": [
        "decoder_States = [h,c]\n",
        "decoder_outputs = decoder_dense(decoder_outputs)"
      ],
      "execution_count": 32,
      "outputs": []
    },
    {
      "cell_type": "markdown",
      "metadata": {
        "collapsed": false,
        "pycharm": {
          "name": "#%% md\n"
        },
        "id": "wmvPYB58CcD7"
      },
      "source": [
        "Final step is to define the update decoder model"
      ]
    },
    {
      "cell_type": "code",
      "metadata": {
        "pycharm": {
          "name": "#%%\n"
        },
        "id": "4ATrZrQOCcD8"
      },
      "source": [
        "decoder_model = Model(\n",
        "    [decoder_inputs_single] + decoder_states_inputs,\n",
        "    [decoder_outputs] + decoder_States\n",
        ")"
      ],
      "execution_count": 33,
      "outputs": []
    },
    {
      "cell_type": "code",
      "metadata": {
        "pycharm": {
          "name": "#%%\n"
        },
        "id": "bfFUyQB9CcD8",
        "outputId": "94251f3c-dec8-442a-a946-996b80d28aea",
        "colab": {
          "base_uri": "https://localhost:8080/",
          "height": 331
        }
      },
      "source": [
        "from tensorflow.keras.utils import plot_model\n",
        "plot_model(decoder_model, to_file='model_plot_dec.png', show_shapes=True, show_layer_names=True)"
      ],
      "execution_count": 34,
      "outputs": [
        {
          "output_type": "execute_result",
          "data": {
            "image/png": "[encoded data removed]",
            "text/plain": [
              "<IPython.core.display.Image object>"
            ]
          },
          "metadata": {},
          "execution_count": 34
        }
      ]
    },
    {
      "cell_type": "markdown",
      "metadata": {
        "collapsed": false,
        "pycharm": {
          "name": "#%% md\n"
        },
        "id": "lJRVuY0PCcD8"
      },
      "source": [
        "In the image above lstm_2 is the modified decoder LSTM. You can see that it accepts the sentence with with one word as shown in input_5, and the hidden and cell states from the previous output (input_3 and input_4). You can see that the shape of the of the input sentence is now (none,1) since there will be only one word in the decoder input. On the contrary, during training the shape of the input sentence was (None,6) since the input contained a complete sentence with a maximum length of 5."
      ]
    },
    {
      "cell_type": "markdown",
      "metadata": {
        "collapsed": false,
        "pycharm": {
          "name": "#%% md\n"
        },
        "id": "-siXfyUxCcD8"
      },
      "source": [
        "### Making predictions"
      ]
    },
    {
      "cell_type": "code",
      "metadata": {
        "pycharm": {
          "name": "#%%\n"
        },
        "id": "4aTtMnNzCcD9"
      },
      "source": [
        "idx2word_input = {v:k for k, v in word2idx_inputs.items()}\n",
        "idx2word_target = {v:k for k, v in word2idx_outputs.items()}"
      ],
      "execution_count": 35,
      "outputs": []
    },
    {
      "cell_type": "code",
      "metadata": {
        "pycharm": {
          "name": "#%%\n"
        },
        "id": "SLuSRZoGCcD9"
      },
      "source": [
        "def translate_sentence(input_seq):\n",
        "    states_value = encoder_model.predict(input_seq)\n",
        "    target_seq= np.zeros((1,1))\n",
        "    target_seq[0,0] = word2idx_outputs['<sos>']\n",
        "    eos = word2idx_outputs['<eos>']\n",
        "    output_sentence1 = []\n",
        "\n",
        "    for _ in range(max_out_len):\n",
        "        output_tokens, h, c = decoder_model.predict([target_seq] + states_value)\n",
        "        idx = np.argmax(output_tokens[0, 0, :])\n",
        "\n",
        "        if eos == idx:\n",
        "            break\n",
        "\n",
        "        word1 = ''\n",
        "\n",
        "        if idx > 0:\n",
        "            word1 = idx2word_target[idx]\n",
        "            output_sentence1.append(word1)\n",
        "\n",
        "        target_seq[0, 0] = idx\n",
        "        states_value = [h, c]\n",
        "\n",
        "    return ' '.join(output_sentence1)"
      ],
      "execution_count": 36,
      "outputs": []
    },
    {
      "cell_type": "markdown",
      "metadata": {
        "collapsed": false,
        "pycharm": {
          "name": "#%% md\n"
        },
        "id": "E37FMH4-CcD9"
      },
      "source": [
        "In the script above, we pass the input sequence to the `encoder_model`, which predicts the hidden state and the cell state, which are stored in `states_value` variable.\n",
        "\n",
        "Next, we define a variable `target_seq`, which is a `1x1` matrix of all zeros. The `target_seq` variable contains the first word to the decoder mode, which is `<sos>`.\n",
        "\n",
        "After that, the `eos` variable is initialized, which stores the integer value for the `<eos>` token. In the next line, the `output_sentence` list is defined, which will contain the predicted translation.\n",
        "\n",
        "Next, we execute a for loop till the length of longest sentence in output. Here the `decoder_model` predicts the output and hidden and cell state, using the h and c state encoder, and input token `<sos>`. The index of predicted word is stored in `idx` variable. If the value of the predicted index is equal to the `<eos>` token, the loop terminates. Else if the predicted index is greater than zero, the corresponding word is retreived from the `idx2word` dictionary and is stored in `word` variable, which is then appeded to the `output_sentence` list.\n",
        "\n",
        "The `state_value` variable is updated with the new hidden and cell state of the decoder and the index of the prediced word is stored in the `target_seq` variable. In the next loop cycle, the updated hidden and cellstates, along with the index of the previously predicted word, are used to make new predictions. The loops continues until the maximum output sequence lenght is achieved or the `<eos>` token is encountered"
      ]
    },
    {
      "cell_type": "markdown",
      "metadata": {
        "collapsed": false,
        "pycharm": {
          "name": "#%% md\n"
        },
        "id": "KhQOTJBPCcD9"
      },
      "source": [
        "### Testing model"
      ]
    },
    {
      "cell_type": "code",
      "metadata": {
        "pycharm": {
          "name": "#%%\n"
        },
        "id": "GjRNtwVQCcD-",
        "outputId": "4c4754bf-5e99-484f-8964-410737983a72",
        "colab": {
          "base_uri": "https://localhost:8080/"
        }
      },
      "source": [
        "i = np.random.choice(len(input_sentences))\n",
        "input_seq = encoder_input_sequences[i:i+1]\n",
        "translation = translate_sentence(input_seq)\n",
        "print('-')\n",
        "print('Input:', input_sentences[i])\n",
        "print('Response:', translation)"
      ],
      "execution_count": 37,
      "outputs": [
        {
          "output_type": "stream",
          "name": "stdout",
          "text": [
            "-\n",
            "Input: Use this.\n",
            "Response: <sos> elle elle elle elle elle elle elle elle elle elle\n"
          ]
        }
      ]
    }
  ]
}
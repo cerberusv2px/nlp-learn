{
  "nbformat": 4,
  "nbformat_minor": 0,
  "metadata": {
    "kernelspec": {
      "display_name": "Python 3",
      "language": "python",
      "name": "python3"
    },
    "language_info": {
      "codemirror_mode": {
        "name": "ipython",
        "version": 2
      },
      "file_extension": ".py",
      "mimetype": "text/x-python",
      "name": "python",
      "nbconvert_exporter": "python",
      "pygments_lexer": "ipython2",
      "version": "2.7.6"
    },
    "colab": {
      "name": "10_multi_label_classification.ipynb",
      "provenance": [],
      "include_colab_link": true
    },
    "accelerator": "GPU"
  },
  "cells": [
    {
      "cell_type": "markdown",
      "metadata": {
        "id": "view-in-github",
        "colab_type": "text"
      },
      "source": [
        "<a href=\"https://colab.research.google.com/github/cerberusv2px/nlp-learn/blob/main/10_multi_label_classification.ipynb\" target=\"_parent\"><img src=\"https://colab.research.google.com/assets/colab-badge.svg\" alt=\"Open In Colab\"/></a>"
      ]
    },
    {
      "cell_type": "code",
      "metadata": {
        "collapsed": true,
        "id": "GD77oz7Q08Hs"
      },
      "source": [
        "from keras.preprocessing.text import one_hot, Tokenizer\n",
        "from keras.preprocessing.sequence import pad_sequences\n",
        "from keras.models import Sequential, Model\n",
        "from keras.layers.core import Activation, Dropout, Dense\n",
        "from keras.layers import Flatten, LSTM, GlobalMaxPool1D, Input\n",
        "from keras.layers.embeddings import Embedding\n",
        "from sklearn.model_selection import train_test_split\n",
        "from keras.layers.merge import Concatenate\n",
        "\n",
        "import pandas as pd\n",
        "import numpy as np\n",
        "import re\n",
        "\n",
        "import matplotlib.pyplot as plt"
      ],
      "execution_count": 1,
      "outputs": []
    },
    {
      "cell_type": "code",
      "metadata": {
        "pycharm": {
          "name": "#%%\n"
        },
        "id": "iYmgjKFC08Hw"
      },
      "source": [
        "toxic_comments = pd.read_csv('datasets/toxic_comments.csv')"
      ],
      "execution_count": 6,
      "outputs": []
    },
    {
      "cell_type": "code",
      "metadata": {
        "pycharm": {
          "name": "#%%\n"
        },
        "id": "80XEsa9r08Hx",
        "outputId": "82de4eb2-a97d-479b-cb78-59fc3e91c08c",
        "colab": {
          "base_uri": "https://localhost:8080/"
        }
      },
      "source": [
        "print(toxic_comments.shape)"
      ],
      "execution_count": 7,
      "outputs": [
        {
          "output_type": "stream",
          "text": [
            "(159571, 8)\n"
          ],
          "name": "stdout"
        }
      ]
    },
    {
      "cell_type": "code",
      "metadata": {
        "pycharm": {
          "name": "#%%\n"
        },
        "id": "H-6qrR0108Hz",
        "outputId": "4192852e-a619-4248-dacd-7d1ad1cd5441",
        "colab": {
          "base_uri": "https://localhost:8080/",
          "height": 204
        }
      },
      "source": [
        "toxic_comments.head()"
      ],
      "execution_count": 8,
      "outputs": [
        {
          "output_type": "execute_result",
          "data": {
            "text/html": [
              "<div>\n",
              "<style scoped>\n",
              "    .dataframe tbody tr th:only-of-type {\n",
              "        vertical-align: middle;\n",
              "    }\n",
              "\n",
              "    .dataframe tbody tr th {\n",
              "        vertical-align: top;\n",
              "    }\n",
              "\n",
              "    .dataframe thead th {\n",
              "        text-align: right;\n",
              "    }\n",
              "</style>\n",
              "<table border=\"1\" class=\"dataframe\">\n",
              "  <thead>\n",
              "    <tr style=\"text-align: right;\">\n",
              "      <th></th>\n",
              "      <th>id</th>\n",
              "      <th>comment_text</th>\n",
              "      <th>toxic</th>\n",
              "      <th>severe_toxic</th>\n",
              "      <th>obscene</th>\n",
              "      <th>threat</th>\n",
              "      <th>insult</th>\n",
              "      <th>identity_hate</th>\n",
              "    </tr>\n",
              "  </thead>\n",
              "  <tbody>\n",
              "    <tr>\n",
              "      <th>0</th>\n",
              "      <td>0000997932d777bf</td>\n",
              "      <td>Explanation\\nWhy the edits made under my usern...</td>\n",
              "      <td>0</td>\n",
              "      <td>0</td>\n",
              "      <td>0</td>\n",
              "      <td>0</td>\n",
              "      <td>0</td>\n",
              "      <td>0</td>\n",
              "    </tr>\n",
              "    <tr>\n",
              "      <th>1</th>\n",
              "      <td>000103f0d9cfb60f</td>\n",
              "      <td>D'aww! He matches this background colour I'm s...</td>\n",
              "      <td>0</td>\n",
              "      <td>0</td>\n",
              "      <td>0</td>\n",
              "      <td>0</td>\n",
              "      <td>0</td>\n",
              "      <td>0</td>\n",
              "    </tr>\n",
              "    <tr>\n",
              "      <th>2</th>\n",
              "      <td>000113f07ec002fd</td>\n",
              "      <td>Hey man, I'm really not trying to edit war. It...</td>\n",
              "      <td>0</td>\n",
              "      <td>0</td>\n",
              "      <td>0</td>\n",
              "      <td>0</td>\n",
              "      <td>0</td>\n",
              "      <td>0</td>\n",
              "    </tr>\n",
              "    <tr>\n",
              "      <th>3</th>\n",
              "      <td>0001b41b1c6bb37e</td>\n",
              "      <td>\"\\nMore\\nI can't make any real suggestions on ...</td>\n",
              "      <td>0</td>\n",
              "      <td>0</td>\n",
              "      <td>0</td>\n",
              "      <td>0</td>\n",
              "      <td>0</td>\n",
              "      <td>0</td>\n",
              "    </tr>\n",
              "    <tr>\n",
              "      <th>4</th>\n",
              "      <td>0001d958c54c6e35</td>\n",
              "      <td>You, sir, are my hero. Any chance you remember...</td>\n",
              "      <td>0</td>\n",
              "      <td>0</td>\n",
              "      <td>0</td>\n",
              "      <td>0</td>\n",
              "      <td>0</td>\n",
              "      <td>0</td>\n",
              "    </tr>\n",
              "  </tbody>\n",
              "</table>\n",
              "</div>"
            ],
            "text/plain": [
              "                 id  ... identity_hate\n",
              "0  0000997932d777bf  ...             0\n",
              "1  000103f0d9cfb60f  ...             0\n",
              "2  000113f07ec002fd  ...             0\n",
              "3  0001b41b1c6bb37e  ...             0\n",
              "4  0001d958c54c6e35  ...             0\n",
              "\n",
              "[5 rows x 8 columns]"
            ]
          },
          "metadata": {},
          "execution_count": 8
        }
      ]
    },
    {
      "cell_type": "code",
      "metadata": {
        "pycharm": {
          "name": "#%%\n"
        },
        "id": "WbUqMDkl08H0"
      },
      "source": [
        "filter = toxic_comments[\"comment_text\"] != \"\"\n",
        "toxic_comments = toxic_comments[filter]\n",
        "toxic_comments = toxic_comments.dropna()"
      ],
      "execution_count": 9,
      "outputs": []
    },
    {
      "cell_type": "code",
      "metadata": {
        "pycharm": {
          "name": "#%%\n"
        },
        "id": "XnQUXO4p08H1",
        "outputId": "5b73cae1-d954-495c-c2cb-d5b953c654a9",
        "colab": {
          "base_uri": "https://localhost:8080/"
        }
      },
      "source": [
        "print(toxic_comments.shape)"
      ],
      "execution_count": 10,
      "outputs": [
        {
          "output_type": "stream",
          "text": [
            "(159571, 8)\n"
          ],
          "name": "stdout"
        }
      ]
    },
    {
      "cell_type": "code",
      "metadata": {
        "pycharm": {
          "name": "#%%\n"
        },
        "id": "-HuK03-j08H2",
        "outputId": "50bc4448-98ed-4080-c702-29cee1969d6c",
        "colab": {
          "base_uri": "https://localhost:8080/"
        }
      },
      "source": [
        "print(toxic_comments[\"comment_text\"][168])"
      ],
      "execution_count": 11,
      "outputs": [
        {
          "output_type": "stream",
          "text": [
            "You should be fired, you're a moronic wimp who is too lazy to do research. It makes me sick that people like you exist in this world.\n"
          ],
          "name": "stdout"
        }
      ]
    },
    {
      "cell_type": "code",
      "metadata": {
        "pycharm": {
          "name": "#%%\n"
        },
        "id": "ZT6uZkvP08H4",
        "outputId": "7784019b-a181-484a-8a18-709742714ed3",
        "colab": {
          "base_uri": "https://localhost:8080/"
        }
      },
      "source": [
        "print(\"Toxic:\" + str(toxic_comments[\"toxic\"][168]))\n",
        "print(\"Severe_toxic:\" + str(toxic_comments[\"severe_toxic\"][168]))\n",
        "print(\"Obscene:\" + str(toxic_comments[\"obscene\"][168]))\n",
        "print(\"Threat:\" + str(toxic_comments[\"threat\"][168]))\n",
        "print(\"Insult:\" + str(toxic_comments[\"insult\"][168]))\n",
        "print(\"Identity_hate:\" + str(toxic_comments[\"identity_hate\"][168]))\n"
      ],
      "execution_count": 12,
      "outputs": [
        {
          "output_type": "stream",
          "text": [
            "Toxic:1\n",
            "Severe_toxic:0\n",
            "Obscene:0\n",
            "Threat:0\n",
            "Insult:1\n",
            "Identity_hate:0\n"
          ],
          "name": "stdout"
        }
      ]
    },
    {
      "cell_type": "code",
      "metadata": {
        "pycharm": {
          "name": "#%%\n"
        },
        "id": "ttajxlTi08H5",
        "outputId": "6422bc7c-1368-4ebd-c137-1557e49b875e",
        "colab": {
          "base_uri": "https://localhost:8080/",
          "height": 204
        }
      },
      "source": [
        "toxic_comments_labels = toxic_comments[[\"toxic\", \"severe_toxic\", \"obscene\", \"threat\", \"insult\", \"identity_hate\"]]\n",
        "toxic_comments_labels.head()"
      ],
      "execution_count": 13,
      "outputs": [
        {
          "output_type": "execute_result",
          "data": {
            "text/html": [
              "<div>\n",
              "<style scoped>\n",
              "    .dataframe tbody tr th:only-of-type {\n",
              "        vertical-align: middle;\n",
              "    }\n",
              "\n",
              "    .dataframe tbody tr th {\n",
              "        vertical-align: top;\n",
              "    }\n",
              "\n",
              "    .dataframe thead th {\n",
              "        text-align: right;\n",
              "    }\n",
              "</style>\n",
              "<table border=\"1\" class=\"dataframe\">\n",
              "  <thead>\n",
              "    <tr style=\"text-align: right;\">\n",
              "      <th></th>\n",
              "      <th>toxic</th>\n",
              "      <th>severe_toxic</th>\n",
              "      <th>obscene</th>\n",
              "      <th>threat</th>\n",
              "      <th>insult</th>\n",
              "      <th>identity_hate</th>\n",
              "    </tr>\n",
              "  </thead>\n",
              "  <tbody>\n",
              "    <tr>\n",
              "      <th>0</th>\n",
              "      <td>0</td>\n",
              "      <td>0</td>\n",
              "      <td>0</td>\n",
              "      <td>0</td>\n",
              "      <td>0</td>\n",
              "      <td>0</td>\n",
              "    </tr>\n",
              "    <tr>\n",
              "      <th>1</th>\n",
              "      <td>0</td>\n",
              "      <td>0</td>\n",
              "      <td>0</td>\n",
              "      <td>0</td>\n",
              "      <td>0</td>\n",
              "      <td>0</td>\n",
              "    </tr>\n",
              "    <tr>\n",
              "      <th>2</th>\n",
              "      <td>0</td>\n",
              "      <td>0</td>\n",
              "      <td>0</td>\n",
              "      <td>0</td>\n",
              "      <td>0</td>\n",
              "      <td>0</td>\n",
              "    </tr>\n",
              "    <tr>\n",
              "      <th>3</th>\n",
              "      <td>0</td>\n",
              "      <td>0</td>\n",
              "      <td>0</td>\n",
              "      <td>0</td>\n",
              "      <td>0</td>\n",
              "      <td>0</td>\n",
              "    </tr>\n",
              "    <tr>\n",
              "      <th>4</th>\n",
              "      <td>0</td>\n",
              "      <td>0</td>\n",
              "      <td>0</td>\n",
              "      <td>0</td>\n",
              "      <td>0</td>\n",
              "      <td>0</td>\n",
              "    </tr>\n",
              "  </tbody>\n",
              "</table>\n",
              "</div>"
            ],
            "text/plain": [
              "   toxic  severe_toxic  obscene  threat  insult  identity_hate\n",
              "0      0             0        0       0       0              0\n",
              "1      0             0        0       0       0              0\n",
              "2      0             0        0       0       0              0\n",
              "3      0             0        0       0       0              0\n",
              "4      0             0        0       0       0              0"
            ]
          },
          "metadata": {},
          "execution_count": 13
        }
      ]
    },
    {
      "cell_type": "code",
      "metadata": {
        "pycharm": {
          "name": "#%%\n"
        },
        "id": "-ZyXPBZR08H7",
        "outputId": "32d991ee-a5fc-491b-b8f8-2bd9aebbc98f",
        "colab": {
          "base_uri": "https://localhost:8080/",
          "height": 558
        }
      },
      "source": [
        "fig_size = plt.rcParams[\"figure.figsize\"]\n",
        "fig_size[0] = 10\n",
        "fig_size[1] = 8\n",
        "plt.rcParams[\"figure.figsize\"] = fig_size\n",
        "\n",
        "toxic_comments_labels.sum(axis=0).plot.bar()"
      ],
      "execution_count": 14,
      "outputs": [
        {
          "output_type": "execute_result",
          "data": {
            "text/plain": [
              "<matplotlib.axes._subplots.AxesSubplot at 0x7f3770b837d0>"
            ]
          },
          "metadata": {},
          "execution_count": 14
        },
        {
          "output_type": "display_data",
          "data": {
            "image/png": "[encoded data removed]",
            "text/plain": [
              "<Figure size 720x576 with 1 Axes>"
            ]
          },
          "metadata": {
            "needs_background": "light"
          }
        }
      ]
    },
    {
      "cell_type": "markdown",
      "metadata": {
        "collapsed": false,
        "pycharm": {
          "name": "#%% md\n"
        },
        "id": "nrN1Zbnk08H8"
      },
      "source": [
        "## Creating multi-label text classification models\n",
        "Two ways:\n",
        "* single dense output layer\n",
        "* multiple dense output layer\n",
        "\n",
        "In single dense output layer, we use six outputs with a sigmoid activation functoin and binary cross entropy loss functions. Each neuron in the output dense layer will represent one of the six output labels. The sigmoid activation function will return a value between 0 and 1 for each neuron. If any neuron's output value is greated than 0.5, it is assumed that the comment belongs to the class represented by that particular neuron.\n",
        "\n",
        "### Multi-label text classification model with single output layer\n",
        "\n"
      ]
    },
    {
      "cell_type": "code",
      "metadata": {
        "pycharm": {
          "name": "#%%\n"
        },
        "id": "9aojeD4n08H8"
      },
      "source": [
        "def preprocess_text(sen):\n",
        "    # Remove punctuations and numbers\n",
        "    sentence = re.sub('[^a-zA-Z]', ' ', sen)\n",
        "\n",
        "    # Single character removal\n",
        "    sentence = re.sub(r\"\\s+[a-zA-Z]\\s+\", ' ', sentence)\n",
        "\n",
        "    # Removing multiple spaces\n",
        "    sentence = re.sub(r'\\s+', ' ', sentence)\n",
        "\n",
        "    return sentence"
      ],
      "execution_count": 15,
      "outputs": []
    },
    {
      "cell_type": "markdown",
      "metadata": {
        "collapsed": false,
        "pycharm": {
          "name": "#%% md\n"
        },
        "id": "8tsiDQkh08H9"
      },
      "source": [
        "In the next step we will create our input and output set. The input is the comment from the `comment_text` column. We will clean all the comments and will store them in the `X` variable. The labels or outputs have already been stored in the `toxic_comments_labels` dataframe. We will use that dataframe values to store output in the `y` variable. Look at the following script:"
      ]
    },
    {
      "cell_type": "code",
      "metadata": {
        "pycharm": {
          "name": "#%%\n"
        },
        "id": "b5S35Jmh08H-"
      },
      "source": [
        "X = []\n",
        "sentences = list(toxic_comments[\"comment_text\"])\n",
        "for sen in sentences:\n",
        "    X.append(preprocess_text(sen))\n",
        "\n",
        "y = toxic_comments_labels.values"
      ],
      "execution_count": 16,
      "outputs": []
    },
    {
      "cell_type": "code",
      "metadata": {
        "pycharm": {
          "name": "#%%\n"
        },
        "id": "Ag-tcPPi08H-"
      },
      "source": [
        "X_train, X_test, y_train, y_test = train_test_split(X,y, test_size=0.20, random_state=42)"
      ],
      "execution_count": 17,
      "outputs": []
    },
    {
      "cell_type": "code",
      "metadata": {
        "pycharm": {
          "name": "#%%\n"
        },
        "id": "IqjZ_DMV08H_"
      },
      "source": [
        "tokenizer = Tokenizer(num_words=5000)\n",
        "tokenizer.fit_on_texts(X_train)\n",
        "\n",
        "X_train = tokenizer.texts_to_sequences(X_train)\n",
        "X_test = tokenizer.texts_to_sequences(X_test)\n",
        "\n",
        "vocab_size = len(tokenizer.word_index) + 1\n",
        "\n",
        "maxlen = 200\n",
        "\n",
        "X_train = pad_sequences(X_train, padding='post', maxlen=maxlen)\n",
        "X_test = pad_sequences(X_test, padding='post', maxlen=maxlen)"
      ],
      "execution_count": 18,
      "outputs": []
    },
    {
      "cell_type": "code",
      "metadata": {
        "pycharm": {
          "name": "#%%\n"
        },
        "id": "zBfso6J_08IA"
      },
      "source": [
        "embeddings_dictionary = dict()\n",
        "glove_file = open('datasets/glove.6B.100d.txt', encoding='utf8')\n",
        "\n",
        "for line in glove_file:\n",
        "    records = line.split()\n",
        "    word = records[0]\n",
        "    vector_dimensions = np.asarray(records[1:], dtype='float32')\n",
        "    embeddings_dictionary[word] = vector_dimensions\n",
        "\n",
        "glove_file.close()\n",
        "\n",
        "embedding_matrx = np.zeros((vocab_size, 100))\n",
        "for word, index in tokenizer.word_index.items():\n",
        "    embedding_vector = embeddings_dictionary.get(word)\n",
        "    if embedding_vector is not None:\n",
        "        embedding_matrx[index] = embedding_vector"
      ],
      "execution_count": 19,
      "outputs": []
    },
    {
      "cell_type": "markdown",
      "metadata": {
        "collapsed": false,
        "pycharm": {
          "name": "#%% md\n"
        },
        "id": "BSAAdhwY08IA"
      },
      "source": [
        "The following script creates the model. Our model will have one input layer, one embedding layer, one LSTM layer with 128 neurons and one output layer with 6 neurons since we have 6 labels in the output.\n",
        "\n"
      ]
    },
    {
      "cell_type": "code",
      "metadata": {
        "pycharm": {
          "name": "#%%\n"
        },
        "id": "RmSOYBwx08IB"
      },
      "source": [
        "deep_inputs = Input(shape=(maxlen,))\n",
        "embedding_layer = Embedding(vocab_size, 100, weights=[embedding_matrx], trainable=False)(deep_inputs)\n",
        "LSTM_Layer_1 = LSTM(128)(embedding_layer)\n",
        "dense_layer_1 = Dense(6, activation='sigmoid')(LSTM_Layer_1)\n",
        "model = Model(inputs=deep_inputs, outputs= dense_layer_1)\n",
        "\n",
        "model.compile(loss='binary_crossentropy', optimizer='adam', metrics=['acc'])"
      ],
      "execution_count": 20,
      "outputs": []
    },
    {
      "cell_type": "code",
      "metadata": {
        "pycharm": {
          "name": "#%%\n"
        },
        "id": "D1YLKWHg08IB",
        "outputId": "93ea94f5-33f0-4fd3-eb3a-f8406739f8e7",
        "colab": {
          "base_uri": "https://localhost:8080/"
        }
      },
      "source": [
        "print(model.summary())"
      ],
      "execution_count": 21,
      "outputs": [
        {
          "output_type": "stream",
          "text": [
            "Model: \"model\"\n",
            "_________________________________________________________________\n",
            "Layer (type)                 Output Shape              Param #   \n",
            "=================================================================\n",
            "input_1 (InputLayer)         [(None, 200)]             0         \n",
            "_________________________________________________________________\n",
            "embedding (Embedding)        (None, 200, 100)          14824300  \n",
            "_________________________________________________________________\n",
            "lstm (LSTM)                  (None, 128)               117248    \n",
            "_________________________________________________________________\n",
            "dense (Dense)                (None, 6)                 774       \n",
            "=================================================================\n",
            "Total params: 14,942,322\n",
            "Trainable params: 118,022\n",
            "Non-trainable params: 14,824,300\n",
            "_________________________________________________________________\n",
            "None\n"
          ],
          "name": "stdout"
        }
      ]
    },
    {
      "cell_type": "code",
      "metadata": {
        "pycharm": {
          "name": "#%%\n"
        },
        "id": "hEzrMVhW08IC",
        "outputId": "a9eef411-f320-4ab0-bd78-dd55e1b1157d",
        "colab": {
          "base_uri": "https://localhost:8080/",
          "height": 422
        }
      },
      "source": [
        "from tensorflow.keras.utils import plot_model\n",
        "plot_model(model, to_file='model_plot4a.png', show_shapes=True, show_layer_names=True)"
      ],
      "execution_count": 22,
      "outputs": [
        {
          "output_type": "execute_result",
          "data": {
            "image/png": "[encoded data removed]",
            "text/plain": [
              "<IPython.core.display.Image object>"
            ]
          },
          "metadata": {},
          "execution_count": 22
        }
      ]
    },
    {
      "cell_type": "code",
      "metadata": {
        "pycharm": {
          "name": "#%%\n"
        },
        "id": "kwYkS3rG08ID",
        "outputId": "d3be2f23-c7eb-48b1-b24c-10362a7c7abe",
        "colab": {
          "base_uri": "https://localhost:8080/"
        }
      },
      "source": [
        "history = model.fit(X_train, y_train, batch_size=128, epochs=10, verbose=1, validation_split=0.2)\n"
      ],
      "execution_count": 23,
      "outputs": [
        {
          "output_type": "stream",
          "text": [
            "Epoch 1/10\n",
            "798/798 [==============================] - 45s 48ms/step - loss: 0.1473 - acc: 0.9709 - val_loss: 0.1347 - val_acc: 0.9943\n",
            "Epoch 2/10\n",
            "798/798 [==============================] - 37s 47ms/step - loss: 0.1173 - acc: 0.9939 - val_loss: 0.1146 - val_acc: 0.9939\n",
            "Epoch 3/10\n",
            "798/798 [==============================] - 37s 47ms/step - loss: 0.1107 - acc: 0.9938 - val_loss: 0.1135 - val_acc: 0.9933\n",
            "Epoch 4/10\n",
            "798/798 [==============================] - 38s 47ms/step - loss: 0.1084 - acc: 0.9939 - val_loss: 0.1106 - val_acc: 0.9943\n",
            "Epoch 5/10\n",
            "798/798 [==============================] - 37s 47ms/step - loss: 0.1066 - acc: 0.9940 - val_loss: 0.1084 - val_acc: 0.9943\n",
            "Epoch 6/10\n",
            "798/798 [==============================] - 37s 47ms/step - loss: 0.1048 - acc: 0.9939 - val_loss: 0.1079 - val_acc: 0.9943\n",
            "Epoch 7/10\n",
            "798/798 [==============================] - 37s 47ms/step - loss: 0.1041 - acc: 0.9938 - val_loss: 0.1071 - val_acc: 0.9942\n",
            "Epoch 8/10\n",
            "798/798 [==============================] - 37s 47ms/step - loss: 0.1027 - acc: 0.9936 - val_loss: 0.1057 - val_acc: 0.9939\n",
            "Epoch 9/10\n",
            "798/798 [==============================] - 37s 47ms/step - loss: 0.1018 - acc: 0.9930 - val_loss: 0.1056 - val_acc: 0.9930\n",
            "Epoch 10/10\n",
            "798/798 [==============================] - 37s 47ms/step - loss: 0.1025 - acc: 0.9934 - val_loss: 0.1085 - val_acc: 0.9943\n"
          ],
          "name": "stdout"
        }
      ]
    },
    {
      "cell_type": "code",
      "metadata": {
        "pycharm": {
          "name": "#%%\n"
        },
        "id": "wxSrMMNK08IE",
        "outputId": "5bb132e0-ef25-4706-c9ab-ee102dcd1eda",
        "colab": {
          "base_uri": "https://localhost:8080/"
        }
      },
      "source": [
        "score = model.evaluate(X_test, y_test, verbose=1)\n",
        "\n",
        "print(\"Test Score:\", score[0])\n",
        "print(\"Test Accuracy:\", score[1])"
      ],
      "execution_count": 24,
      "outputs": [
        {
          "output_type": "stream",
          "text": [
            "998/998 [==============================] - 15s 15ms/step - loss: 0.1080 - acc: 0.9941\n",
            "Test Score: 0.10798653960227966\n",
            "Test Accuracy: 0.9941093325614929\n"
          ],
          "name": "stdout"
        }
      ]
    },
    {
      "cell_type": "code",
      "metadata": {
        "pycharm": {
          "name": "#%%\n"
        },
        "id": "mSnsnIlB08IE",
        "outputId": "25eab4e2-361e-45f9-8020-5af20f42cccc",
        "colab": {
          "base_uri": "https://localhost:8080/",
          "height": 1000
        }
      },
      "source": [
        "\n",
        "import matplotlib.pyplot as plt\n",
        "\n",
        "plt.plot(history.history['acc'])\n",
        "plt.plot(history.history['val_acc'])\n",
        "\n",
        "plt.title('model accuracy')\n",
        "plt.ylabel('accuracy')\n",
        "plt.xlabel('epoch')\n",
        "plt.legend(['train','test'], loc='upper left')\n",
        "plt.show()\n",
        "\n",
        "plt.plot(history.history['loss'])\n",
        "plt.plot(history.history['val_loss'])\n",
        "\n",
        "plt.title('model loss')\n",
        "plt.ylabel('loss')\n",
        "plt.xlabel('epoch')\n",
        "plt.legend(['train','test'], loc='upper left')\n",
        "plt.show()"
      ],
      "execution_count": 25,
      "outputs": [
        {
          "output_type": "display_data",
          "data": {
            "image/png": "[encoded data removed]",
            "text/plain": [
              "<Figure size 720x576 with 1 Axes>"
            ]
          },
          "metadata": {
            "needs_background": "light"
          }
        },
        {
          "output_type": "display_data",
          "data": {
            "image/png": "[encoded data removed]",
            "text/plain": [
              "<Figure size 720x576 with 1 Axes>"
            ]
          },
          "metadata": {
            "needs_background": "light"
          }
        }
      ]
    },
    {
      "cell_type": "markdown",
      "metadata": {
        "collapsed": false,
        "pycharm": {
          "name": "#%% md\n"
        },
        "id": "b9uxOPkD08IF"
      },
      "source": [
        "### Multi-label Text Classification model with Multiple Output Layers\n"
      ]
    },
    {
      "cell_type": "code",
      "metadata": {
        "pycharm": {
          "name": "#%%\n"
        },
        "id": "_srfmQ2R08IF"
      },
      "source": [
        "X = []\n",
        "sentences = list(toxic_comments[\"comment_text\"])\n",
        "for sen in sentences:\n",
        "    X.append(preprocess_text(sen))\n",
        "\n",
        "y = toxic_comments[[\"toxic\", \"severe_toxic\", \"obscene\", \"threat\", \"insult\", \"identity_hate\"]]"
      ],
      "execution_count": 26,
      "outputs": []
    },
    {
      "cell_type": "code",
      "metadata": {
        "pycharm": {
          "name": "#%%\n"
        },
        "id": "JT3_XDTN08IG"
      },
      "source": [
        "X_train, X_test, y_train, y_test = train_test_split(X, y, test_size=0.20, random_state=42)"
      ],
      "execution_count": 27,
      "outputs": []
    },
    {
      "cell_type": "code",
      "metadata": {
        "pycharm": {
          "name": "#%%\n"
        },
        "id": "AyOqYhiP08IG"
      },
      "source": [
        "# First output\n",
        "y1_train = y_train[[\"toxic\"]].values\n",
        "y1_test =  y_test[[\"toxic\"]].values\n",
        "\n",
        "# Second output\n",
        "y2_train = y_train[[\"severe_toxic\"]].values\n",
        "y2_test =  y_test[[\"severe_toxic\"]].values\n",
        "\n",
        "# Third output\n",
        "y3_train = y_train[[\"obscene\"]].values\n",
        "y3_test =  y_test[[\"obscene\"]].values\n",
        "\n",
        "# Fourth output\n",
        "y4_train = y_train[[\"threat\"]].values\n",
        "y4_test =  y_test[[\"threat\"]].values\n",
        "\n",
        "# Fifth output\n",
        "y5_train = y_train[[\"insult\"]].values\n",
        "y5_test =  y_test[[\"insult\"]].values\n",
        "\n",
        "# Sixth output\n",
        "y6_train = y_train[[\"identity_hate\"]].values\n",
        "y6_test =  y_test[[\"identity_hate\"]].values"
      ],
      "execution_count": 28,
      "outputs": []
    },
    {
      "cell_type": "code",
      "metadata": {
        "pycharm": {
          "name": "#%%\n"
        },
        "id": "40wimkOT08IG"
      },
      "source": [
        "tokenizer = Tokenizer(num_words=5000)\n",
        "tokenizer.fit_on_texts(X_train)\n",
        "\n",
        "X_train = tokenizer.texts_to_sequences(X_train)\n",
        "X_test = tokenizer.texts_to_sequences(X_test)\n",
        "\n",
        "vocab_size = len(tokenizer.word_index) + 1\n",
        "\n",
        "maxlen = 200\n",
        "\n",
        "X_train = pad_sequences(X_train, padding='post', maxlen=maxlen)\n",
        "X_test = pad_sequences(X_test, padding='post', maxlen=maxlen)"
      ],
      "execution_count": 29,
      "outputs": []
    },
    {
      "cell_type": "code",
      "metadata": {
        "pycharm": {
          "name": "#%%\n"
        },
        "id": "q5V1pVvX08IH"
      },
      "source": [
        "\n",
        "glove_file = open('datasets/glove.6B.100d.txt', encoding=\"utf8\")\n",
        "\n",
        "for line in glove_file:\n",
        "    records = line.split()\n",
        "    word = records[0]\n",
        "    vector_dimensions = np.asarray(records[1:], dtype='float32')\n",
        "    embeddings_dictionary[word] = vector_dimensions\n",
        "glove_file.close()\n",
        "\n",
        "embedding_matrix = np.zeros((vocab_size, 100))\n",
        "for word, index in tokenizer.word_index.items():\n",
        "    embedding_vector = embeddings_dictionary.get(word)\n",
        "    if embedding_vector is not None:\n",
        "        embedding_matrix[index] = embedding_vector"
      ],
      "execution_count": 30,
      "outputs": []
    },
    {
      "cell_type": "code",
      "metadata": {
        "pycharm": {
          "name": "#%%\n"
        },
        "id": "MZXyQWET08IH"
      },
      "source": [
        "input_1 = Input(shape=(maxlen,))\n",
        "embedding_layer = Embedding(vocab_size, 100, weights=[embedding_matrx], trainable=False)(input_1)\n",
        "LSTM_Layer_1 = LSTM(128)(embedding_layer)\n",
        "\n",
        "output1 = Dense(1, activation='sigmoid')(LSTM_Layer_1)\n",
        "output2 = Dense(1, activation='sigmoid')(LSTM_Layer_1)\n",
        "output3 = Dense(1, activation='sigmoid')(LSTM_Layer_1)\n",
        "output4 = Dense(1, activation='sigmoid')(LSTM_Layer_1)\n",
        "output5 = Dense(1, activation='sigmoid')(LSTM_Layer_1)\n",
        "output6 = Dense(1, activation='sigmoid')(LSTM_Layer_1)\n",
        "\n",
        "model = Model(inputs=input_1, outputs=[output1, output2, output3, output4, output5, output6])\n",
        "model.compile(loss='binary_crossentropy', optimizer='adam', metrics=['acc'])"
      ],
      "execution_count": 31,
      "outputs": []
    },
    {
      "cell_type": "code",
      "metadata": {
        "pycharm": {
          "name": "#%%\n"
        },
        "id": "tus8AVAr08IH",
        "outputId": "7755117f-f0a3-4f2c-df8d-58c4dcdda54c",
        "colab": {
          "base_uri": "https://localhost:8080/"
        }
      },
      "source": [
        "print(model.summary())"
      ],
      "execution_count": 32,
      "outputs": [
        {
          "output_type": "stream",
          "text": [
            "Model: \"model_1\"\n",
            "__________________________________________________________________________________________________\n",
            "Layer (type)                    Output Shape         Param #     Connected to                     \n",
            "==================================================================================================\n",
            "input_2 (InputLayer)            [(None, 200)]        0                                            \n",
            "__________________________________________________________________________________________________\n",
            "embedding_1 (Embedding)         (None, 200, 100)     14824300    input_2[0][0]                    \n",
            "__________________________________________________________________________________________________\n",
            "lstm_1 (LSTM)                   (None, 128)          117248      embedding_1[0][0]                \n",
            "__________________________________________________________________________________________________\n",
            "dense_1 (Dense)                 (None, 1)            129         lstm_1[0][0]                     \n",
            "__________________________________________________________________________________________________\n",
            "dense_2 (Dense)                 (None, 1)            129         lstm_1[0][0]                     \n",
            "__________________________________________________________________________________________________\n",
            "dense_3 (Dense)                 (None, 1)            129         lstm_1[0][0]                     \n",
            "__________________________________________________________________________________________________\n",
            "dense_4 (Dense)                 (None, 1)            129         lstm_1[0][0]                     \n",
            "__________________________________________________________________________________________________\n",
            "dense_5 (Dense)                 (None, 1)            129         lstm_1[0][0]                     \n",
            "__________________________________________________________________________________________________\n",
            "dense_6 (Dense)                 (None, 1)            129         lstm_1[0][0]                     \n",
            "==================================================================================================\n",
            "Total params: 14,942,322\n",
            "Trainable params: 118,022\n",
            "Non-trainable params: 14,824,300\n",
            "__________________________________________________________________________________________________\n",
            "None\n"
          ],
          "name": "stdout"
        }
      ]
    },
    {
      "cell_type": "code",
      "metadata": {
        "pycharm": {
          "name": "#%%\n"
        },
        "id": "iAy3XLox08II",
        "outputId": "10634b2c-2374-4502-af16-cdba913ff233",
        "colab": {
          "base_uri": "https://localhost:8080/",
          "height": 299
        }
      },
      "source": [
        "from tensorflow.keras.utils import plot_model\n",
        "plot_model(model, to_file='model_plot4b.png', show_shapes=True, show_layer_names=True)"
      ],
      "execution_count": 33,
      "outputs": [
        {
          "output_type": "execute_result",
          "data": {
            "image/png": "[encoded data removed]",
            "text/plain": [
              "<IPython.core.display.Image object>"
            ]
          },
          "metadata": {},
          "execution_count": 33
        }
      ]
    },
    {
      "cell_type": "code",
      "metadata": {
        "pycharm": {
          "name": "#%%\n",
          "is_executing": true
        },
        "id": "xzS9Olp008II",
        "outputId": "622a9891-2d7a-4f4e-818e-5d26de70ef4a",
        "colab": {
          "base_uri": "https://localhost:8080/"
        }
      },
      "source": [
        "history = model.fit(x=X_train, y=[y1_train, y2_train, y3_train, y4_train, y5_train, y6_train], batch_size=8192, epochs=10, verbose=1, validation_split=0.2)"
      ],
      "execution_count": 34,
      "outputs": [
        {
          "output_type": "stream",
          "text": [
            "Epoch 1/10\n",
            "13/13 [==============================] - 19s 1s/step - loss: 3.1647 - dense_1_loss: 0.5633 - dense_2_loss: 0.5163 - dense_3_loss: 0.5526 - dense_4_loss: 0.5100 - dense_5_loss: 0.5237 - dense_6_loss: 0.4988 - dense_1_acc: 0.9015 - dense_2_acc: 0.9878 - dense_3_acc: 0.9449 - dense_4_acc: 0.9902 - dense_5_acc: 0.9509 - dense_6_acc: 0.9816 - val_loss: 0.9824 - val_dense_1_loss: 0.3301 - val_dense_2_loss: 0.0968 - val_dense_3_loss: 0.2082 - val_dense_4_loss: 0.0748 - val_dense_5_loss: 0.2004 - val_dense_6_loss: 0.0721 - val_dense_1_acc: 0.9036 - val_dense_2_acc: 0.9901 - val_dense_3_acc: 0.9468 - val_dense_4_acc: 0.9967 - val_dense_5_acc: 0.9509 - val_dense_6_acc: 0.9902\n",
            "Epoch 2/10\n",
            "13/13 [==============================] - 15s 1s/step - loss: 0.8978 - dense_1_loss: 0.3268 - dense_2_loss: 0.0664 - dense_3_loss: 0.2087 - dense_4_loss: 0.0399 - dense_5_loss: 0.2030 - dense_6_loss: 0.0530 - dense_1_acc: 0.9043 - dense_2_acc: 0.9900 - dense_3_acc: 0.9474 - dense_4_acc: 0.9969 - dense_5_acc: 0.9510 - dense_6_acc: 0.9916 - val_loss: 0.8595 - val_dense_1_loss: 0.3188 - val_dense_2_loss: 0.0557 - val_dense_3_loss: 0.2089 - val_dense_4_loss: 0.0246 - val_dense_5_loss: 0.1957 - val_dense_6_loss: 0.0558 - val_dense_1_acc: 0.9036 - val_dense_2_acc: 0.9901 - val_dense_3_acc: 0.9468 - val_dense_4_acc: 0.9967 - val_dense_5_acc: 0.9509 - val_dense_6_acc: 0.9902\n",
            "Epoch 3/10\n",
            "13/13 [==============================] - 15s 1s/step - loss: 0.8492 - dense_1_loss: 0.3177 - dense_2_loss: 0.0570 - dense_3_loss: 0.2065 - dense_4_loss: 0.0220 - dense_5_loss: 0.1964 - dense_6_loss: 0.0495 - dense_1_acc: 0.9043 - dense_2_acc: 0.9900 - dense_3_acc: 0.9474 - dense_4_acc: 0.9969 - dense_5_acc: 0.9510 - dense_6_acc: 0.9916 - val_loss: 0.8588 - val_dense_1_loss: 0.3177 - val_dense_2_loss: 0.0573 - val_dense_3_loss: 0.2080 - val_dense_4_loss: 0.0223 - val_dense_5_loss: 0.1957 - val_dense_6_loss: 0.0576 - val_dense_1_acc: 0.9036 - val_dense_2_acc: 0.9901 - val_dense_3_acc: 0.9468 - val_dense_4_acc: 0.9967 - val_dense_5_acc: 0.9509 - val_dense_6_acc: 0.9902\n",
            "Epoch 4/10\n",
            "13/13 [==============================] - 15s 1s/step - loss: 0.8459 - dense_1_loss: 0.3159 - dense_2_loss: 0.0574 - dense_3_loss: 0.2062 - dense_4_loss: 0.0212 - dense_5_loss: 0.1957 - dense_6_loss: 0.0496 - dense_1_acc: 0.9043 - dense_2_acc: 0.9900 - dense_3_acc: 0.9474 - dense_4_acc: 0.9969 - dense_5_acc: 0.9510 - dense_6_acc: 0.9916 - val_loss: 0.8553 - val_dense_1_loss: 0.3171 - val_dense_2_loss: 0.0562 - val_dense_3_loss: 0.2079 - val_dense_4_loss: 0.0224 - val_dense_5_loss: 0.1957 - val_dense_6_loss: 0.0560 - val_dense_1_acc: 0.9036 - val_dense_2_acc: 0.9901 - val_dense_3_acc: 0.9468 - val_dense_4_acc: 0.9967 - val_dense_5_acc: 0.9509 - val_dense_6_acc: 0.9902\n",
            "Epoch 5/10\n",
            "13/13 [==============================] - 15s 1s/step - loss: 0.8434 - dense_1_loss: 0.3158 - dense_2_loss: 0.0562 - dense_3_loss: 0.2060 - dense_4_loss: 0.0212 - dense_5_loss: 0.1956 - dense_6_loss: 0.0487 - dense_1_acc: 0.9043 - dense_2_acc: 0.9900 - dense_3_acc: 0.9474 - dense_4_acc: 0.9969 - dense_5_acc: 0.9510 - dense_6_acc: 0.9916 - val_loss: 0.8536 - val_dense_1_loss: 0.3169 - val_dense_2_loss: 0.0556 - val_dense_3_loss: 0.2078 - val_dense_4_loss: 0.0224 - val_dense_5_loss: 0.1957 - val_dense_6_loss: 0.0552 - val_dense_1_acc: 0.9036 - val_dense_2_acc: 0.9901 - val_dense_3_acc: 0.9468 - val_dense_4_acc: 0.9967 - val_dense_5_acc: 0.9509 - val_dense_6_acc: 0.9902\n",
            "Epoch 6/10\n",
            "13/13 [==============================] - 15s 1s/step - loss: 0.8426 - dense_1_loss: 0.3153 - dense_2_loss: 0.0560 - dense_3_loss: 0.2060 - dense_4_loss: 0.0212 - dense_5_loss: 0.1955 - dense_6_loss: 0.0486 - dense_1_acc: 0.9043 - dense_2_acc: 0.9900 - dense_3_acc: 0.9474 - dense_4_acc: 0.9969 - dense_5_acc: 0.9510 - dense_6_acc: 0.9916 - val_loss: 0.8534 - val_dense_1_loss: 0.3168 - val_dense_2_loss: 0.0557 - val_dense_3_loss: 0.2077 - val_dense_4_loss: 0.0224 - val_dense_5_loss: 0.1957 - val_dense_6_loss: 0.0552 - val_dense_1_acc: 0.9036 - val_dense_2_acc: 0.9901 - val_dense_3_acc: 0.9468 - val_dense_4_acc: 0.9967 - val_dense_5_acc: 0.9509 - val_dense_6_acc: 0.9902\n",
            "Epoch 7/10\n",
            "13/13 [==============================] - 15s 1s/step - loss: 0.8424 - dense_1_loss: 0.3152 - dense_2_loss: 0.0560 - dense_3_loss: 0.2060 - dense_4_loss: 0.0211 - dense_5_loss: 0.1955 - dense_6_loss: 0.0486 - dense_1_acc: 0.9043 - dense_2_acc: 0.9900 - dense_3_acc: 0.9474 - dense_4_acc: 0.9969 - dense_5_acc: 0.9510 - dense_6_acc: 0.9916 - val_loss: 0.8533 - val_dense_1_loss: 0.3167 - val_dense_2_loss: 0.0556 - val_dense_3_loss: 0.2077 - val_dense_4_loss: 0.0223 - val_dense_5_loss: 0.1956 - val_dense_6_loss: 0.0552 - val_dense_1_acc: 0.9036 - val_dense_2_acc: 0.9901 - val_dense_3_acc: 0.9468 - val_dense_4_acc: 0.9967 - val_dense_5_acc: 0.9509 - val_dense_6_acc: 0.9902\n",
            "Epoch 8/10\n",
            "13/13 [==============================] - 15s 1s/step - loss: 0.8423 - dense_1_loss: 0.3152 - dense_2_loss: 0.0560 - dense_3_loss: 0.2060 - dense_4_loss: 0.0211 - dense_5_loss: 0.1955 - dense_6_loss: 0.0486 - dense_1_acc: 0.9043 - dense_2_acc: 0.9900 - dense_3_acc: 0.9474 - dense_4_acc: 0.9969 - dense_5_acc: 0.9510 - dense_6_acc: 0.9916 - val_loss: 0.8532 - val_dense_1_loss: 0.3167 - val_dense_2_loss: 0.0556 - val_dense_3_loss: 0.2077 - val_dense_4_loss: 0.0223 - val_dense_5_loss: 0.1956 - val_dense_6_loss: 0.0553 - val_dense_1_acc: 0.9036 - val_dense_2_acc: 0.9901 - val_dense_3_acc: 0.9468 - val_dense_4_acc: 0.9967 - val_dense_5_acc: 0.9509 - val_dense_6_acc: 0.9902\n",
            "Epoch 9/10\n",
            "13/13 [==============================] - 15s 1s/step - loss: 0.8422 - dense_1_loss: 0.3152 - dense_2_loss: 0.0560 - dense_3_loss: 0.2060 - dense_4_loss: 0.0211 - dense_5_loss: 0.1954 - dense_6_loss: 0.0486 - dense_1_acc: 0.9043 - dense_2_acc: 0.9900 - dense_3_acc: 0.9474 - dense_4_acc: 0.9969 - dense_5_acc: 0.9510 - dense_6_acc: 0.9916 - val_loss: 0.8531 - val_dense_1_loss: 0.3166 - val_dense_2_loss: 0.0556 - val_dense_3_loss: 0.2077 - val_dense_4_loss: 0.0223 - val_dense_5_loss: 0.1956 - val_dense_6_loss: 0.0553 - val_dense_1_acc: 0.9036 - val_dense_2_acc: 0.9901 - val_dense_3_acc: 0.9468 - val_dense_4_acc: 0.9967 - val_dense_5_acc: 0.9509 - val_dense_6_acc: 0.9902\n",
            "Epoch 10/10\n",
            "13/13 [==============================] - 15s 1s/step - loss: 0.8422 - dense_1_loss: 0.3152 - dense_2_loss: 0.0560 - dense_3_loss: 0.2059 - dense_4_loss: 0.0211 - dense_5_loss: 0.1954 - dense_6_loss: 0.0486 - dense_1_acc: 0.9043 - dense_2_acc: 0.9900 - dense_3_acc: 0.9474 - dense_4_acc: 0.9969 - dense_5_acc: 0.9510 - dense_6_acc: 0.9916 - val_loss: 0.8529 - val_dense_1_loss: 0.3166 - val_dense_2_loss: 0.0556 - val_dense_3_loss: 0.2076 - val_dense_4_loss: 0.0223 - val_dense_5_loss: 0.1956 - val_dense_6_loss: 0.0552 - val_dense_1_acc: 0.9036 - val_dense_2_acc: 0.9901 - val_dense_3_acc: 0.9468 - val_dense_4_acc: 0.9967 - val_dense_5_acc: 0.9509 - val_dense_6_acc: 0.9902\n"
          ],
          "name": "stdout"
        }
      ]
    },
    {
      "cell_type": "code",
      "metadata": {
        "pycharm": {
          "name": "#%%\n"
        },
        "id": "3jWlINum08II",
        "outputId": "dc2ee3da-084f-4395-e1bc-4ab62c5f4fcd",
        "colab": {
          "base_uri": "https://localhost:8080/"
        }
      },
      "source": [
        "score = model.evaluate(x=X_test, y=[y1_test, y2_test, y3_test, y4_test, y5_test, y6_test], verbose=1)\n",
        "\n",
        "print(\"Test Score:\", score[0])\n",
        "print(\"Test Accuracy:\", score[1])"
      ],
      "execution_count": 35,
      "outputs": [
        {
          "output_type": "stream",
          "text": [
            "998/998 [==============================] - 20s 20ms/step - loss: 0.8493 - dense_1_loss: 0.3151 - dense_2_loss: 0.0563 - dense_3_loss: 0.2092 - dense_4_loss: 0.0165 - dense_5_loss: 0.1999 - dense_6_loss: 0.0523 - dense_1_acc: 0.9042 - dense_2_acc: 0.9899 - dense_3_acc: 0.9463 - dense_4_acc: 0.9977 - dense_5_acc: 0.9494 - dense_6_acc: 0.9908\n",
            "Test Score: 0.8492809534072876\n",
            "Test Accuracy: 0.31508374214172363\n"
          ],
          "name": "stdout"
        }
      ]
    },
    {
      "cell_type": "code",
      "metadata": {
        "pycharm": {
          "name": "#%%\n"
        },
        "id": "dqd8LJud08IJ",
        "outputId": "ce565a7b-1b30-49da-9d28-c2a27a25af95",
        "colab": {
          "base_uri": "https://localhost:8080/",
          "height": 1000
        }
      },
      "source": [
        "import matplotlib.pyplot as plt\n",
        "\n",
        "plt.plot(history.history['dense_1_acc'])\n",
        "plt.plot(history.history['val_dense_1_acc'])\n",
        "\n",
        "plt.title('model accuracy')\n",
        "plt.ylabel('accuracy')\n",
        "plt.xlabel('epoch')\n",
        "plt.legend(['train','test'], loc='upper left')\n",
        "plt.show()\n",
        "\n",
        "plt.plot(history.history['dense_1_loss'])\n",
        "plt.plot(history.history['val_dense_1_loss'])\n",
        "\n",
        "plt.title('model loss')\n",
        "plt.ylabel('loss')\n",
        "plt.xlabel('epoch')\n",
        "plt.legend(['train','test'], loc='upper left')\n",
        "plt.show()"
      ],
      "execution_count": 36,
      "outputs": [
        {
          "output_type": "display_data",
          "data": {
            "image/png": "[encoded data removed]",
            "text/plain": [
              "<Figure size 720x576 with 1 Axes>"
            ]
          },
          "metadata": {
            "needs_background": "light"
          }
        },
        {
          "output_type": "display_data",
          "data": {
            "image/png": "[encoded data removed]",
            "text/plain": [
              "<Figure size 720x576 with 1 Axes>"
            ]
          },
          "metadata": {
            "needs_background": "light"
          }
        }
      ]
    },
    {
      "cell_type": "code",
      "metadata": {
        "pycharm": {
          "name": "#%%\n"
        },
        "id": "MdnkJiYj08IJ"
      },
      "source": [
        ""
      ],
      "execution_count": 36,
      "outputs": []
    }
  ]
}